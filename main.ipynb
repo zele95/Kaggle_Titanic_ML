{
  "cells": [
    {
      "cell_type": "markdown",
      "metadata": {
        "id": "C-jXGozsfDuR"
      },
      "source": [
        "## **Titanic - Machine Learning from Disaster (Accuracy 88%)**"
      ]
    },
    {
      "cell_type": "markdown",
      "metadata": {
        "id": "ZDsdAB3DfDuX"
      },
      "source": [
        "In this project, it is necessary to find a model\n",
        "that predicts which passengers survived the sinking of the Titanic.\n"
      ]
    },
    {
      "cell_type": "markdown",
      "metadata": {
        "id": "TbnNXHXxfDuY"
      },
      "source": [
        "### **Introduction**\n",
        "\n",
        "Importing all of the necessary libraries and inspecting the data."
      ]
    },
    {
      "cell_type": "code",
      "execution_count": 2,
      "metadata": {
        "colab": {
          "base_uri": "https://localhost:8080/",
          "height": 285
        },
        "id": "DLuKiRcKfDuZ",
        "outputId": "9940b119-7f76-4219-a600-de4e55d34400"
      },
      "outputs": [
        {
          "data": {
            "text/html": [
              "\n",
              "  <div id=\"df-1227b893-9ddc-4fd0-bc3b-2e30dec9904b\">\n",
              "    <div class=\"colab-df-container\">\n",
              "      <div>\n",
              "<style scoped>\n",
              "    .dataframe tbody tr th:only-of-type {\n",
              "        vertical-align: middle;\n",
              "    }\n",
              "\n",
              "    .dataframe tbody tr th {\n",
              "        vertical-align: top;\n",
              "    }\n",
              "\n",
              "    .dataframe thead th {\n",
              "        text-align: right;\n",
              "    }\n",
              "</style>\n",
              "<table border=\"1\" class=\"dataframe\">\n",
              "  <thead>\n",
              "    <tr style=\"text-align: right;\">\n",
              "      <th></th>\n",
              "      <th>PassengerId</th>\n",
              "      <th>Survived</th>\n",
              "      <th>Pclass</th>\n",
              "      <th>Name</th>\n",
              "      <th>Sex</th>\n",
              "      <th>Age</th>\n",
              "      <th>SibSp</th>\n",
              "      <th>Parch</th>\n",
              "      <th>Ticket</th>\n",
              "      <th>Fare</th>\n",
              "      <th>Cabin</th>\n",
              "      <th>Embarked</th>\n",
              "    </tr>\n",
              "  </thead>\n",
              "  <tbody>\n",
              "    <tr>\n",
              "      <th>0</th>\n",
              "      <td>1</td>\n",
              "      <td>0</td>\n",
              "      <td>3</td>\n",
              "      <td>Braund, Mr. Owen Harris</td>\n",
              "      <td>male</td>\n",
              "      <td>22.0</td>\n",
              "      <td>1</td>\n",
              "      <td>0</td>\n",
              "      <td>A/5 21171</td>\n",
              "      <td>7.2500</td>\n",
              "      <td>NaN</td>\n",
              "      <td>S</td>\n",
              "    </tr>\n",
              "    <tr>\n",
              "      <th>1</th>\n",
              "      <td>2</td>\n",
              "      <td>1</td>\n",
              "      <td>1</td>\n",
              "      <td>Cumings, Mrs. John Bradley (Florence Briggs Th...</td>\n",
              "      <td>female</td>\n",
              "      <td>38.0</td>\n",
              "      <td>1</td>\n",
              "      <td>0</td>\n",
              "      <td>PC 17599</td>\n",
              "      <td>71.2833</td>\n",
              "      <td>C85</td>\n",
              "      <td>C</td>\n",
              "    </tr>\n",
              "    <tr>\n",
              "      <th>2</th>\n",
              "      <td>3</td>\n",
              "      <td>1</td>\n",
              "      <td>3</td>\n",
              "      <td>Heikkinen, Miss. Laina</td>\n",
              "      <td>female</td>\n",
              "      <td>26.0</td>\n",
              "      <td>0</td>\n",
              "      <td>0</td>\n",
              "      <td>STON/O2. 3101282</td>\n",
              "      <td>7.9250</td>\n",
              "      <td>NaN</td>\n",
              "      <td>S</td>\n",
              "    </tr>\n",
              "    <tr>\n",
              "      <th>3</th>\n",
              "      <td>4</td>\n",
              "      <td>1</td>\n",
              "      <td>1</td>\n",
              "      <td>Futrelle, Mrs. Jacques Heath (Lily May Peel)</td>\n",
              "      <td>female</td>\n",
              "      <td>35.0</td>\n",
              "      <td>1</td>\n",
              "      <td>0</td>\n",
              "      <td>113803</td>\n",
              "      <td>53.1000</td>\n",
              "      <td>C123</td>\n",
              "      <td>S</td>\n",
              "    </tr>\n",
              "    <tr>\n",
              "      <th>4</th>\n",
              "      <td>5</td>\n",
              "      <td>0</td>\n",
              "      <td>3</td>\n",
              "      <td>Allen, Mr. William Henry</td>\n",
              "      <td>male</td>\n",
              "      <td>35.0</td>\n",
              "      <td>0</td>\n",
              "      <td>0</td>\n",
              "      <td>373450</td>\n",
              "      <td>8.0500</td>\n",
              "      <td>NaN</td>\n",
              "      <td>S</td>\n",
              "    </tr>\n",
              "  </tbody>\n",
              "</table>\n",
              "</div>\n",
              "      <button class=\"colab-df-convert\" onclick=\"convertToInteractive('df-1227b893-9ddc-4fd0-bc3b-2e30dec9904b')\"\n",
              "              title=\"Convert this dataframe to an interactive table.\"\n",
              "              style=\"display:none;\">\n",
              "        \n",
              "  <svg xmlns=\"http://www.w3.org/2000/svg\" height=\"24px\"viewBox=\"0 0 24 24\"\n",
              "       width=\"24px\">\n",
              "    <path d=\"M0 0h24v24H0V0z\" fill=\"none\"/>\n",
              "    <path d=\"M18.56 5.44l.94 2.06.94-2.06 2.06-.94-2.06-.94-.94-2.06-.94 2.06-2.06.94zm-11 1L8.5 8.5l.94-2.06 2.06-.94-2.06-.94L8.5 2.5l-.94 2.06-2.06.94zm10 10l.94 2.06.94-2.06 2.06-.94-2.06-.94-.94-2.06-.94 2.06-2.06.94z\"/><path d=\"M17.41 7.96l-1.37-1.37c-.4-.4-.92-.59-1.43-.59-.52 0-1.04.2-1.43.59L10.3 9.45l-7.72 7.72c-.78.78-.78 2.05 0 2.83L4 21.41c.39.39.9.59 1.41.59.51 0 1.02-.2 1.41-.59l7.78-7.78 2.81-2.81c.8-.78.8-2.07 0-2.86zM5.41 20L4 18.59l7.72-7.72 1.47 1.35L5.41 20z\"/>\n",
              "  </svg>\n",
              "      </button>\n",
              "      \n",
              "  <style>\n",
              "    .colab-df-container {\n",
              "      display:flex;\n",
              "      flex-wrap:wrap;\n",
              "      gap: 12px;\n",
              "    }\n",
              "\n",
              "    .colab-df-convert {\n",
              "      background-color: #E8F0FE;\n",
              "      border: none;\n",
              "      border-radius: 50%;\n",
              "      cursor: pointer;\n",
              "      display: none;\n",
              "      fill: #1967D2;\n",
              "      height: 32px;\n",
              "      padding: 0 0 0 0;\n",
              "      width: 32px;\n",
              "    }\n",
              "\n",
              "    .colab-df-convert:hover {\n",
              "      background-color: #E2EBFA;\n",
              "      box-shadow: 0px 1px 2px rgba(60, 64, 67, 0.3), 0px 1px 3px 1px rgba(60, 64, 67, 0.15);\n",
              "      fill: #174EA6;\n",
              "    }\n",
              "\n",
              "    [theme=dark] .colab-df-convert {\n",
              "      background-color: #3B4455;\n",
              "      fill: #D2E3FC;\n",
              "    }\n",
              "\n",
              "    [theme=dark] .colab-df-convert:hover {\n",
              "      background-color: #434B5C;\n",
              "      box-shadow: 0px 1px 3px 1px rgba(0, 0, 0, 0.15);\n",
              "      filter: drop-shadow(0px 1px 2px rgba(0, 0, 0, 0.3));\n",
              "      fill: #FFFFFF;\n",
              "    }\n",
              "  </style>\n",
              "\n",
              "      <script>\n",
              "        const buttonEl =\n",
              "          document.querySelector('#df-1227b893-9ddc-4fd0-bc3b-2e30dec9904b button.colab-df-convert');\n",
              "        buttonEl.style.display =\n",
              "          google.colab.kernel.accessAllowed ? 'block' : 'none';\n",
              "\n",
              "        async function convertToInteractive(key) {\n",
              "          const element = document.querySelector('#df-1227b893-9ddc-4fd0-bc3b-2e30dec9904b');\n",
              "          const dataTable =\n",
              "            await google.colab.kernel.invokeFunction('convertToInteractive',\n",
              "                                                     [key], {});\n",
              "          if (!dataTable) return;\n",
              "\n",
              "          const docLinkHtml = 'Like what you see? Visit the ' +\n",
              "            '<a target=\"_blank\" href=https://colab.research.google.com/notebooks/data_table.ipynb>data table notebook</a>'\n",
              "            + ' to learn more about interactive tables.';\n",
              "          element.innerHTML = '';\n",
              "          dataTable['output_type'] = 'display_data';\n",
              "          await google.colab.output.renderOutput(dataTable, element);\n",
              "          const docLink = document.createElement('div');\n",
              "          docLink.innerHTML = docLinkHtml;\n",
              "          element.appendChild(docLink);\n",
              "        }\n",
              "      </script>\n",
              "    </div>\n",
              "  </div>\n",
              "  "
            ],
            "text/plain": [
              "   PassengerId  Survived  Pclass  \\\n",
              "0            1         0       3   \n",
              "1            2         1       1   \n",
              "2            3         1       3   \n",
              "3            4         1       1   \n",
              "4            5         0       3   \n",
              "\n",
              "                                                Name     Sex   Age  SibSp  \\\n",
              "0                            Braund, Mr. Owen Harris    male  22.0      1   \n",
              "1  Cumings, Mrs. John Bradley (Florence Briggs Th...  female  38.0      1   \n",
              "2                             Heikkinen, Miss. Laina  female  26.0      0   \n",
              "3       Futrelle, Mrs. Jacques Heath (Lily May Peel)  female  35.0      1   \n",
              "4                           Allen, Mr. William Henry    male  35.0      0   \n",
              "\n",
              "   Parch            Ticket     Fare Cabin Embarked  \n",
              "0      0         A/5 21171   7.2500   NaN        S  \n",
              "1      0          PC 17599  71.2833   C85        C  \n",
              "2      0  STON/O2. 3101282   7.9250   NaN        S  \n",
              "3      0            113803  53.1000  C123        S  \n",
              "4      0            373450   8.0500   NaN        S  "
            ]
          },
          "execution_count": 2,
          "metadata": {},
          "output_type": "execute_result"
        }
      ],
      "source": [
        "import pandas as pd\n",
        "import numpy as np\n",
        "import seaborn as sns\n",
        "import matplotlib.pyplot as plt\n",
        "\n",
        "from sklearn.preprocessing import StandardScaler\n",
        "from sklearn.linear_model import LogisticRegression\n",
        "from sklearn.neighbors import KNeighborsClassifier\n",
        "from sklearn.naive_bayes import MultinomialNB\n",
        "from sklearn.tree import DecisionTreeClassifier\n",
        "from sklearn.svm import SVC\n",
        "from sklearn.ensemble import RandomForestClassifier, GradientBoostingClassifier\n",
        "from xgboost import XGBClassifier\n",
        "\n",
        "from sklearn.model_selection import train_test_split\n",
        "from sklearn.model_selection import KFold,StratifiedKFold\n",
        "from sklearn.model_selection import cross_val_score\n",
        "from sklearn.pipeline import Pipeline, make_pipeline\n",
        "from sklearn.model_selection import GridSearchCV,RandomizedSearchCV\n",
        "\n",
        "\n",
        "# Load the passenger data\n",
        "df_train = pd.read_csv('train.csv')\n",
        "df_test = pd.read_csv('test.csv')\n",
        "\n",
        "df_train.head()\n",
        "# print(df_test.head())"
      ]
    },
    {
      "cell_type": "code",
      "execution_count": 3,
      "metadata": {
        "colab": {
          "base_uri": "https://localhost:8080/"
        },
        "id": "Xdi4x4WefDuc",
        "outputId": "c6f1da8b-692b-4037-a956-fab7f3ce64d6"
      },
      "outputs": [
        {
          "name": "stdout",
          "output_type": "stream",
          "text": [
            "<class 'pandas.core.frame.DataFrame'>\n",
            "RangeIndex: 891 entries, 0 to 890\n",
            "Data columns (total 12 columns):\n",
            " #   Column       Non-Null Count  Dtype  \n",
            "---  ------       --------------  -----  \n",
            " 0   PassengerId  891 non-null    int64  \n",
            " 1   Survived     891 non-null    int64  \n",
            " 2   Pclass       891 non-null    int64  \n",
            " 3   Name         891 non-null    object \n",
            " 4   Sex          891 non-null    object \n",
            " 5   Age          714 non-null    float64\n",
            " 6   SibSp        891 non-null    int64  \n",
            " 7   Parch        891 non-null    int64  \n",
            " 8   Ticket       891 non-null    object \n",
            " 9   Fare         891 non-null    float64\n",
            " 10  Cabin        204 non-null    object \n",
            " 11  Embarked     889 non-null    object \n",
            "dtypes: float64(2), int64(5), object(5)\n",
            "memory usage: 83.7+ KB\n"
          ]
        }
      ],
      "source": [
        "df_train.info()\n",
        "# df_test.info()"
      ]
    },
    {
      "cell_type": "markdown",
      "metadata": {
        "id": "Y-PGRkQZfDud"
      },
      "source": [
        "Besides 'Age', only 'Cabin' and 'Embarked' have missing values (train data). We can inspect 'Embarked' column further and delete 'Cabin' since most of the values are missing. Also, we can see that 'Ticket' column do not have any meaningful data (all unique values). Thus, we can remove this column as well. 'Age' and 'Name' columns contain some important value so we will keep them."
      ]
    },
    {
      "cell_type": "code",
      "execution_count": 4,
      "metadata": {
        "colab": {
          "base_uri": "https://localhost:8080/",
          "height": 709
        },
        "id": "vD0tSG0xfDue",
        "outputId": "43eadc0a-015e-4e16-e30c-d44ddbf541de"
      },
      "outputs": [
        {
          "name": "stdout",
          "output_type": "stream",
          "text": [
            "S      644\n",
            "C      168\n",
            "Q       77\n",
            "NaN      2\n",
            "Name: Embarked, dtype: int64\n",
            "Braund, Mr. Owen Harris                     1\n",
            "Boulos, Mr. Hanna                           1\n",
            "Frolicher-Stehli, Mr. Maxmillian            1\n",
            "Gilinski, Mr. Eliezer                       1\n",
            "Murdlin, Mr. Joseph                         1\n",
            "                                           ..\n",
            "Kelly, Miss. Anna Katherine \"Annie Kate\"    1\n",
            "McCoy, Mr. Bernard                          1\n",
            "Johnson, Mr. William Cahoone Jr             1\n",
            "Keane, Miss. Nora A                         1\n",
            "Dooley, Mr. Patrick                         1\n",
            "Name: Name, Length: 891, dtype: int64\n",
            "347082      7\n",
            "CA. 2343    7\n",
            "1601        7\n",
            "3101295     6\n",
            "CA 2144     6\n",
            "           ..\n",
            "9234        1\n",
            "19988       1\n",
            "2693        1\n",
            "PC 17612    1\n",
            "370376      1\n",
            "Name: Ticket, Length: 681, dtype: int64\n"
          ]
        },
        {
          "data": {
            "text/html": [
              "\n",
              "  <div id=\"df-be5f5c8e-9887-4a79-81be-68bcb5471a16\">\n",
              "    <div class=\"colab-df-container\">\n",
              "      <div>\n",
              "<style scoped>\n",
              "    .dataframe tbody tr th:only-of-type {\n",
              "        vertical-align: middle;\n",
              "    }\n",
              "\n",
              "    .dataframe tbody tr th {\n",
              "        vertical-align: top;\n",
              "    }\n",
              "\n",
              "    .dataframe thead th {\n",
              "        text-align: right;\n",
              "    }\n",
              "</style>\n",
              "<table border=\"1\" class=\"dataframe\">\n",
              "  <thead>\n",
              "    <tr style=\"text-align: right;\">\n",
              "      <th></th>\n",
              "      <th>PassengerId</th>\n",
              "      <th>Survived</th>\n",
              "      <th>Pclass</th>\n",
              "      <th>Name</th>\n",
              "      <th>Sex</th>\n",
              "      <th>Age</th>\n",
              "      <th>SibSp</th>\n",
              "      <th>Parch</th>\n",
              "      <th>Fare</th>\n",
              "      <th>Embarked</th>\n",
              "    </tr>\n",
              "  </thead>\n",
              "  <tbody>\n",
              "    <tr>\n",
              "      <th>0</th>\n",
              "      <td>1</td>\n",
              "      <td>0</td>\n",
              "      <td>3</td>\n",
              "      <td>Braund, Mr. Owen Harris</td>\n",
              "      <td>male</td>\n",
              "      <td>22.0</td>\n",
              "      <td>1</td>\n",
              "      <td>0</td>\n",
              "      <td>7.2500</td>\n",
              "      <td>S</td>\n",
              "    </tr>\n",
              "    <tr>\n",
              "      <th>1</th>\n",
              "      <td>2</td>\n",
              "      <td>1</td>\n",
              "      <td>1</td>\n",
              "      <td>Cumings, Mrs. John Bradley (Florence Briggs Th...</td>\n",
              "      <td>female</td>\n",
              "      <td>38.0</td>\n",
              "      <td>1</td>\n",
              "      <td>0</td>\n",
              "      <td>71.2833</td>\n",
              "      <td>C</td>\n",
              "    </tr>\n",
              "    <tr>\n",
              "      <th>2</th>\n",
              "      <td>3</td>\n",
              "      <td>1</td>\n",
              "      <td>3</td>\n",
              "      <td>Heikkinen, Miss. Laina</td>\n",
              "      <td>female</td>\n",
              "      <td>26.0</td>\n",
              "      <td>0</td>\n",
              "      <td>0</td>\n",
              "      <td>7.9250</td>\n",
              "      <td>S</td>\n",
              "    </tr>\n",
              "    <tr>\n",
              "      <th>3</th>\n",
              "      <td>4</td>\n",
              "      <td>1</td>\n",
              "      <td>1</td>\n",
              "      <td>Futrelle, Mrs. Jacques Heath (Lily May Peel)</td>\n",
              "      <td>female</td>\n",
              "      <td>35.0</td>\n",
              "      <td>1</td>\n",
              "      <td>0</td>\n",
              "      <td>53.1000</td>\n",
              "      <td>S</td>\n",
              "    </tr>\n",
              "    <tr>\n",
              "      <th>4</th>\n",
              "      <td>5</td>\n",
              "      <td>0</td>\n",
              "      <td>3</td>\n",
              "      <td>Allen, Mr. William Henry</td>\n",
              "      <td>male</td>\n",
              "      <td>35.0</td>\n",
              "      <td>0</td>\n",
              "      <td>0</td>\n",
              "      <td>8.0500</td>\n",
              "      <td>S</td>\n",
              "    </tr>\n",
              "  </tbody>\n",
              "</table>\n",
              "</div>\n",
              "      <button class=\"colab-df-convert\" onclick=\"convertToInteractive('df-be5f5c8e-9887-4a79-81be-68bcb5471a16')\"\n",
              "              title=\"Convert this dataframe to an interactive table.\"\n",
              "              style=\"display:none;\">\n",
              "        \n",
              "  <svg xmlns=\"http://www.w3.org/2000/svg\" height=\"24px\"viewBox=\"0 0 24 24\"\n",
              "       width=\"24px\">\n",
              "    <path d=\"M0 0h24v24H0V0z\" fill=\"none\"/>\n",
              "    <path d=\"M18.56 5.44l.94 2.06.94-2.06 2.06-.94-2.06-.94-.94-2.06-.94 2.06-2.06.94zm-11 1L8.5 8.5l.94-2.06 2.06-.94-2.06-.94L8.5 2.5l-.94 2.06-2.06.94zm10 10l.94 2.06.94-2.06 2.06-.94-2.06-.94-.94-2.06-.94 2.06-2.06.94z\"/><path d=\"M17.41 7.96l-1.37-1.37c-.4-.4-.92-.59-1.43-.59-.52 0-1.04.2-1.43.59L10.3 9.45l-7.72 7.72c-.78.78-.78 2.05 0 2.83L4 21.41c.39.39.9.59 1.41.59.51 0 1.02-.2 1.41-.59l7.78-7.78 2.81-2.81c.8-.78.8-2.07 0-2.86zM5.41 20L4 18.59l7.72-7.72 1.47 1.35L5.41 20z\"/>\n",
              "  </svg>\n",
              "      </button>\n",
              "      \n",
              "  <style>\n",
              "    .colab-df-container {\n",
              "      display:flex;\n",
              "      flex-wrap:wrap;\n",
              "      gap: 12px;\n",
              "    }\n",
              "\n",
              "    .colab-df-convert {\n",
              "      background-color: #E8F0FE;\n",
              "      border: none;\n",
              "      border-radius: 50%;\n",
              "      cursor: pointer;\n",
              "      display: none;\n",
              "      fill: #1967D2;\n",
              "      height: 32px;\n",
              "      padding: 0 0 0 0;\n",
              "      width: 32px;\n",
              "    }\n",
              "\n",
              "    .colab-df-convert:hover {\n",
              "      background-color: #E2EBFA;\n",
              "      box-shadow: 0px 1px 2px rgba(60, 64, 67, 0.3), 0px 1px 3px 1px rgba(60, 64, 67, 0.15);\n",
              "      fill: #174EA6;\n",
              "    }\n",
              "\n",
              "    [theme=dark] .colab-df-convert {\n",
              "      background-color: #3B4455;\n",
              "      fill: #D2E3FC;\n",
              "    }\n",
              "\n",
              "    [theme=dark] .colab-df-convert:hover {\n",
              "      background-color: #434B5C;\n",
              "      box-shadow: 0px 1px 3px 1px rgba(0, 0, 0, 0.15);\n",
              "      filter: drop-shadow(0px 1px 2px rgba(0, 0, 0, 0.3));\n",
              "      fill: #FFFFFF;\n",
              "    }\n",
              "  </style>\n",
              "\n",
              "      <script>\n",
              "        const buttonEl =\n",
              "          document.querySelector('#df-be5f5c8e-9887-4a79-81be-68bcb5471a16 button.colab-df-convert');\n",
              "        buttonEl.style.display =\n",
              "          google.colab.kernel.accessAllowed ? 'block' : 'none';\n",
              "\n",
              "        async function convertToInteractive(key) {\n",
              "          const element = document.querySelector('#df-be5f5c8e-9887-4a79-81be-68bcb5471a16');\n",
              "          const dataTable =\n",
              "            await google.colab.kernel.invokeFunction('convertToInteractive',\n",
              "                                                     [key], {});\n",
              "          if (!dataTable) return;\n",
              "\n",
              "          const docLinkHtml = 'Like what you see? Visit the ' +\n",
              "            '<a target=\"_blank\" href=https://colab.research.google.com/notebooks/data_table.ipynb>data table notebook</a>'\n",
              "            + ' to learn more about interactive tables.';\n",
              "          element.innerHTML = '';\n",
              "          dataTable['output_type'] = 'display_data';\n",
              "          await google.colab.output.renderOutput(dataTable, element);\n",
              "          const docLink = document.createElement('div');\n",
              "          docLink.innerHTML = docLinkHtml;\n",
              "          element.appendChild(docLink);\n",
              "        }\n",
              "      </script>\n",
              "    </div>\n",
              "  </div>\n",
              "  "
            ],
            "text/plain": [
              "   PassengerId  Survived  Pclass  \\\n",
              "0            1         0       3   \n",
              "1            2         1       1   \n",
              "2            3         1       3   \n",
              "3            4         1       1   \n",
              "4            5         0       3   \n",
              "\n",
              "                                                Name     Sex   Age  SibSp  \\\n",
              "0                            Braund, Mr. Owen Harris    male  22.0      1   \n",
              "1  Cumings, Mrs. John Bradley (Florence Briggs Th...  female  38.0      1   \n",
              "2                             Heikkinen, Miss. Laina  female  26.0      0   \n",
              "3       Futrelle, Mrs. Jacques Heath (Lily May Peel)  female  35.0      1   \n",
              "4                           Allen, Mr. William Henry    male  35.0      0   \n",
              "\n",
              "   Parch     Fare Embarked  \n",
              "0      0   7.2500        S  \n",
              "1      0  71.2833        C  \n",
              "2      0   7.9250        S  \n",
              "3      0  53.1000        S  \n",
              "4      0   8.0500        S  "
            ]
          },
          "execution_count": 4,
          "metadata": {},
          "output_type": "execute_result"
        }
      ],
      "source": [
        "# check value counts\n",
        "print(df_train.Embarked.value_counts(dropna = False))\n",
        "print(df_train.Name.value_counts(dropna = False))\n",
        "print(df_train.Ticket.value_counts(dropna = False))\n",
        "\n",
        "# drop unnecessary columns\n",
        "df_train.drop(columns = ['Cabin','Ticket'],inplace = True)\n",
        "df_test.drop(columns = ['Cabin','Ticket'],inplace = True)\n",
        "\n",
        "\n",
        "df_train.head()"
      ]
    },
    {
      "cell_type": "markdown",
      "metadata": {
        "id": "A7_U0Np7fDug"
      },
      "source": [
        "### **Exploratory Data Analisys**\n",
        "\n",
        "As a first step, we can check out the correlation between different features. A pair plot is also a good place to start."
      ]
    },
    {
      "cell_type": "code",
      "execution_count": 5,
      "metadata": {
        "colab": {
          "base_uri": "https://localhost:8080/",
          "height": 1000
        },
        "id": "aGanBI4RfDuh",
        "outputId": "92a30a64-ff91-409d-baa1-30f4e4960fc9"
      },
      "outputs": [
        {
          "data": {
            "image/png": "[encoded data removed]",
            "text/plain": [
              "<Figure size 432x288 with 2 Axes>"
            ]
          },
          "metadata": {},
          "output_type": "display_data"
        },
        {
          "data": {
            "image/png": "[encoded data removed]",
            "text/plain": [
              "<Figure size 951.875x900 with 30 Axes>"
            ]
          },
          "metadata": {},
          "output_type": "display_data"
        }
      ],
      "source": [
        "sns.set_style('darkgrid')\n",
        "\n",
        "# correlation matrix\n",
        "sns.heatmap(df_train.drop(columns = ['PassengerId'],axis = 1).corr(),cmap='OrRd',annot=True,fmt=\".2f\")\n",
        "plt.show()\n",
        "\n",
        "# pair plot\n",
        "sns.pairplot(df_train.drop(columns = ['PassengerId'],axis = 1),hue = 'Survived')\n",
        "plt.show()"
      ]
    },
    {
      "cell_type": "markdown",
      "metadata": {
        "id": "HbbK5mHufDui"
      },
      "source": [
        "We can see (from the correlation matrix) that only class and fare are related to survival and to each other. We would expect the age to be correlated to survival as well. On the pair plot we can see that young people have a higher survival rate. Also, it can be seen that the majority of the 3rd class died and the majority of the people traveling in the 1st class survived.\n",
        "\n",
        "We can further inspect the categorical features of the data and their survival status."
      ]
    },
    {
      "cell_type": "code",
      "execution_count": 6,
      "metadata": {
        "colab": {
          "base_uri": "https://localhost:8080/",
          "height": 373
        },
        "id": "V97Gch5DfDuk",
        "outputId": "5823029a-46ea-4744-ea3a-481051286883"
      },
      "outputs": [
        {
          "data": {
            "image/png": "[encoded data removed]",
            "text/plain": [
              "<Figure size 864x360 with 4 Axes>"
            ]
          },
          "metadata": {},
          "output_type": "display_data"
        }
      ],
      "source": [
        "# plot categorical features\n",
        "fig,axes=plt.subplots(1,4,figsize=(12,5))\n",
        "sns.countplot(x=\"Survived\",data=df_train,ax=axes[0])\n",
        "sns.countplot(x=\"Sex\",hue=\"Survived\",data=df_train,ax=axes[1])\n",
        "sns.countplot(x=\"Pclass\",hue=\"Survived\",data=df_train,ax=axes[2])\n",
        "sns.countplot(x=\"Embarked\",hue=\"Survived\",data=df_train,ax=axes[3])\n",
        "plt.suptitle(\"Categorical variables and survival\",fontsize=14)\n",
        "plt.tight_layout()"
      ]
    },
    {
      "cell_type": "markdown",
      "metadata": {
        "id": "rRuTPCb9fDul"
      },
      "source": [
        "It is clear that women survived more then men. Also, people who were in class 1 and embarked at 'C' had a greater chance of survival. Thus, all three of these features ate important when predictiong the survival.\n",
        "\n",
        "We can further check the 'Age' feature by plotting the histogram of the ages."
      ]
    },
    {
      "cell_type": "code",
      "execution_count": 7,
      "metadata": {
        "colab": {
          "base_uri": "https://localhost:8080/",
          "height": 279
        },
        "id": "dAEHpF1MfDum",
        "outputId": "17c08c32-9b54-428f-9cd6-d17a035a626c"
      },
      "outputs": [
        {
          "data": {
            "image/png": "[encoded data removed]",
            "text/plain": [
              "<Figure size 432x288 with 1 Axes>"
            ]
          },
          "metadata": {},
          "output_type": "display_data"
        }
      ],
      "source": [
        "# create a histogram for Age feature\n",
        "df_train.groupby(\"Survived\").Age.plot(kind=\"hist\", alpha = 0.4, ec=\"black\", legend= True)\n",
        "plt.xlabel(\"Age\")\n",
        "plt.legend(labels=[\"Not-Survived\",\"Survived\"])\n",
        "plt.show()"
      ]
    },
    {
      "cell_type": "markdown",
      "metadata": {
        "id": "Lj2gBLjdfDun"
      },
      "source": [
        "We can see that age is indeed an important factor. Young people tend to survive more than old ones. Furthermore, we can compare the mean age value for men and women in different classes. This could be an important factor when filling the missing values for age feature.\n"
      ]
    },
    {
      "cell_type": "code",
      "execution_count": 8,
      "metadata": {
        "colab": {
          "base_uri": "https://localhost:8080/",
          "height": 418
        },
        "id": "jXSMxhlhfDun",
        "outputId": "55bc1c90-ba78-4e71-d821-b7d88d6b149c"
      },
      "outputs": [
        {
          "data": {
            "image/png": "[encoded data removed]",
            "text/plain": [
              "<Figure size 432x288 with 1 Axes>"
            ]
          },
          "metadata": {},
          "output_type": "display_data"
        },
        {
          "name": "stdout",
          "output_type": "stream",
          "text": [
            "Pclass  Sex   \n",
            "1       female    34.611765\n",
            "        male      41.281386\n",
            "2       female    28.722973\n",
            "        male      30.740707\n",
            "3       female    21.750000\n",
            "        male      26.507589\n",
            "Name: Age, dtype: float64\n"
          ]
        }
      ],
      "source": [
        "# plot mean age values for different sex and Pclass \n",
        "sns.barplot(x=\"Pclass\",hue=\"Sex\",y=\"Age\",data=df_train,ci=None)\n",
        "plt.show()\n",
        "\n",
        "print(df_train.groupby([\"Pclass\",\"Sex\"]).Age.mean())"
      ]
    },
    {
      "cell_type": "markdown",
      "metadata": {
        "id": "7s0IFuLTfDuo"
      },
      "source": [
        "Next, we can explore the fare feature. Let's check the survival compared to the different fare value."
      ]
    },
    {
      "cell_type": "code",
      "execution_count": 9,
      "metadata": {
        "colab": {
          "base_uri": "https://localhost:8080/",
          "height": 279
        },
        "id": "-wZLDliffDup",
        "outputId": "e9fe454c-b266-4496-81f7-51f6a26cfcda"
      },
      "outputs": [
        {
          "data": {
            "image/png": "[encoded data removed]",
            "text/plain": [
              "<Figure size 432x288 with 1 Axes>"
            ]
          },
          "metadata": {},
          "output_type": "display_data"
        }
      ],
      "source": [
        "# plot a histogram of the fare feature\n",
        "df_train.groupby(\"Survived\").Fare.plot(kind=\"hist\", alpha = 0.4, ec=\"black\", legend= True)\n",
        "plt.xlabel(\"Fare\")\n",
        "plt.legend(labels=[\"Not-Survived\",\"Survived\"])\n",
        "plt.show()"
      ]
    },
    {
      "cell_type": "markdown",
      "metadata": {
        "id": "9bdZn7C4fDup"
      },
      "source": [
        "It is clear that the fare value is connected to survival as well. Like in the 'Pclass' feature, people who paid more (better class) tend to survive. The fare value is directly connected to 'Pclass' feature which can also be seen in the correlation matrix."
      ]
    },
    {
      "cell_type": "markdown",
      "metadata": {
        "id": "IGBgK9IgfDuq"
      },
      "source": [
        "### **Data Preprocessing**\n",
        "\n",
        " #### Name feature\n",
        "\n",
        "First, we can start with 'Name' column. If we look at the 'Name' feature, we can see that each name comes with a title. We can extract these titles as a string followed by a dot.\n",
        "\n"
      ]
    },
    {
      "cell_type": "code",
      "execution_count": 10,
      "metadata": {
        "colab": {
          "base_uri": "https://localhost:8080/"
        },
        "id": "yh6Z96WofDuq",
        "outputId": "0d84cda5-db58-4b5d-de50-8875edf81bc5"
      },
      "outputs": [
        {
          "data": {
            "text/plain": [
              "Mr          517\n",
              "Miss        182\n",
              "Mrs         125\n",
              "Master       40\n",
              "Dr            7\n",
              "Rev           6\n",
              "Mlle          2\n",
              "Major         2\n",
              "Col           2\n",
              "Countess      1\n",
              "Capt          1\n",
              "Ms            1\n",
              "Sir           1\n",
              "Lady          1\n",
              "Mme           1\n",
              "Don           1\n",
              "Jonkheer      1\n",
              "Name: Title, dtype: int64"
            ]
          },
          "execution_count": 10,
          "metadata": {},
          "output_type": "execute_result"
        }
      ],
      "source": [
        "# extract titles from Name feature\n",
        "df_train[\"Title\"] = df_train[\"Name\"].str.extract('([A-Za-z]+)\\.')\n",
        "df_test[\"Title\"] = df_test[\"Name\"].str.extract('([A-Za-z]+)\\.')\n",
        "\n",
        "df_train[\"Title\"].value_counts()\n",
        "# df_test[\"Title\"].value_counts()"
      ]
    },
    {
      "cell_type": "markdown",
      "metadata": {
        "id": "qO3eNmWFfDur"
      },
      "source": [
        "We can further reduce the number of titles by grouping the common ones together and uncommon ones apart."
      ]
    },
    {
      "cell_type": "code",
      "execution_count": 11,
      "metadata": {
        "colab": {
          "base_uri": "https://localhost:8080/"
        },
        "id": "zt_0PaS4fDur",
        "outputId": "b3ac4102-aaea-4bb2-e31f-1dec85804826"
      },
      "outputs": [
        {
          "data": {
            "text/plain": [
              "Mr        517\n",
              "Miss      185\n",
              "Mrs       127\n",
              "Master     40\n",
              "Other      22\n",
              "Name: Title, dtype: int64"
            ]
          },
          "execution_count": 11,
          "metadata": {},
          "output_type": "execute_result"
        }
      ],
      "source": [
        "# group titles\n",
        "def group_titles(title):\n",
        "    if title in ['Ms', 'Mlle', \"Miss\"]: # young woman\n",
        "        return 'Miss'\n",
        "    elif title in ['Mme', 'Mrs','Lady']: # older woman\n",
        "        return 'Mrs'\n",
        "    elif title == 'Mr':\n",
        "        return 'Mr'\n",
        "    elif title == 'Master':\n",
        "        return 'Master'\n",
        "    else:\n",
        "        return \"Other\" # uncommon ones\n",
        "        \n",
        "df_train[\"Title\"] = df_train[\"Title\"].map(group_titles)\n",
        "df_test[\"Title\"] = df_test[\"Title\"].map(group_titles)\n",
        "\n",
        "df_train[\"Title\"].value_counts()"
      ]
    },
    {
      "cell_type": "markdown",
      "metadata": {
        "id": "pARXj0vxfDus"
      },
      "source": [
        "#### Sex and Embarked feature\n",
        "\n",
        "'Sex' column is simply mapped to integers 0 and 1 and converted from categorical to numerical value. 'Embarked' column has 2 missing values which are filled with the mode value."
      ]
    },
    {
      "cell_type": "code",
      "execution_count": 12,
      "metadata": {
        "id": "11K1ZkfrfDus"
      },
      "outputs": [],
      "source": [
        "# Update sex column to numerical\n",
        "df_train.Sex.replace(['female','male'],[1,0],inplace = True)\n",
        "df_test.Sex.replace(['female','male'],[1,0],inplace = True)\n",
        "\n",
        "# Fill the nan values in the Embarked column by the mode value of total data\n",
        "df_train.Embarked.fillna(pd.concat([df_train,df_test], axis = 0).Embarked.mode()[0],inplace = True) # fill embarked considering ticket/fare or other features!!"
      ]
    },
    {
      "cell_type": "markdown",
      "metadata": {
        "id": "4y8OA6AYfDut"
      },
      "source": [
        "#### 3. Age feature\n",
        "\n",
        "Next, missing values in the 'Age' column can be filled with the mean value, considering 'Sex' and 'Pclass' as shown in the EDA part. This may not be the best case as the children or old people may get the mean age values. Another approach is to look at the titles and fill the missing values with corresponding mean values. Both test and train data were considered when computing mean values in order for better estimates."
      ]
    },
    {
      "cell_type": "code",
      "execution_count": 13,
      "metadata": {
        "colab": {
          "base_uri": "https://localhost:8080/",
          "height": 0
        },
        "id": "pbthUPH4fDut",
        "outputId": "ef082786-908a-46c4-a3a1-9618b5759c6f"
      },
      "outputs": [
        {
          "data": {
            "image/png": "[encoded data removed]",
            "text/plain": [
              "<Figure size 432x288 with 1 Axes>"
            ]
          },
          "metadata": {},
          "output_type": "display_data"
        },
        {
          "name": "stdout",
          "output_type": "stream",
          "text": [
            "Title\n",
            "Master     5.482642\n",
            "Miss      21.824366\n",
            "Mr        32.252151\n",
            "Mrs       36.982558\n",
            "Other     45.074074\n",
            "Name: Age, dtype: float64\n"
          ]
        }
      ],
      "source": [
        "# plot and check mean age for different titles\n",
        "sns.barplot(x='Title',y=\"Age\",data=pd.concat([df_train,df_test], axis = 0),ci=None)\n",
        "plt.show()\n",
        "\n",
        "print(pd.concat([df_train,df_test], axis = 0).groupby(['Title']).Age.mean())"
      ]
    },
    {
      "cell_type": "code",
      "execution_count": 14,
      "metadata": {
        "id": "GfuTfvHifDuu"
      },
      "outputs": [],
      "source": [
        "# Fill the nan values in the age column considering 'Sex' and 'Pclass'\n",
        "# df_train.Age.fillna(df_train.groupby(['Pclass','Sex']).Age.transform('mean'), inplace = True)\n",
        "\n",
        "# Fill the nan values in the age column considering 'Title' column means\n",
        "df_train.Age.fillna(pd.concat([df_train,df_test], axis = 0).groupby(['Title']).Age.transform('mean')[:891], inplace = True)\n",
        "df_train.Age = df_train.Age.round(0).astype(int)\n",
        "\n",
        "df_test.Age.fillna(pd.concat([df_train,df_test], axis = 0).groupby(['Title']).Age.transform('mean')[891:], inplace = True)\n",
        "df_test.Age = df_test.Age.round(0).astype(int)"
      ]
    },
    {
      "cell_type": "markdown",
      "metadata": {
        "id": "2jqACD5mfDuv"
      },
      "source": [
        "#### ParCh and SibSp features\n",
        "\n",
        "'ParCh' and 'SibSp' columns can be joined together into a 'Family' feature. This has the number of people with whom the person was on the boat with. Another feature, 'Alone', can be added just in case (even though this is already included in 'Familiy' == 0)."
      ]
    },
    {
      "cell_type": "code",
      "execution_count": 15,
      "metadata": {
        "id": "tOmwmxXGfDuv"
      },
      "outputs": [],
      "source": [
        "# Family members analysis\n",
        "df_train['Family'] = df_train['SibSp'] + df_train['Parch']\n",
        "df_test['Family'] = df_test['SibSp'] + df_test['Parch']\n",
        "\n",
        "# Create 'Alone' fetaure\n",
        "df_train['Alone'] = df_train['Family'] == 0\n",
        "df_train['Alone'] = df_train['Alone'].astype(int)\n",
        "\n",
        "df_test['Alone'] = df_test['Family'] == 0\n",
        "df_test['Alone'] = df_test['Alone'].astype(int)"
      ]
    },
    {
      "cell_type": "markdown",
      "metadata": {
        "id": "Wq2C5_AhfDuw"
      },
      "source": [
        "We can quickly check the survival compared to the family size. It is clear that small families survived the most."
      ]
    },
    {
      "cell_type": "code",
      "execution_count": 16,
      "metadata": {
        "colab": {
          "base_uri": "https://localhost:8080/",
          "height": 0
        },
        "id": "TrIZmisCfDuw",
        "outputId": "2e8a52da-c600-4532-8165-44385b877cb4"
      },
      "outputs": [
        {
          "data": {
            "image/png": "[encoded data removed]",
            "text/plain": [
              "<Figure size 720x288 with 2 Axes>"
            ]
          },
          "metadata": {},
          "output_type": "display_data"
        },
        {
          "name": "stdout",
          "output_type": "stream",
          "text": [
            "        Count  SurvivalPerc\n",
            "Family                     \n",
            "3          29     72.413793\n",
            "2         102     57.843137\n",
            "1         161     55.279503\n",
            "6          12     33.333333\n",
            "0         537     30.353818\n",
            "4          15     20.000000\n",
            "5          22     13.636364\n",
            "7           6      0.000000\n",
            "10          7      0.000000\n"
          ]
        }
      ],
      "source": [
        "# plot family size and survival\n",
        "fig, axes = plt.subplots(1,2,figsize=(10,4))\n",
        "sns.countplot(data = df_train, x = 'Family', hue = 'Survived', ax=axes[0])\n",
        "sns.barplot(data = df_train, x = 'Family', y = 'Survived',ci = None, ax=axes[1] )\n",
        "plt.show()\n",
        "\n",
        "# check survival percentage for different family size\n",
        "family_count = df_train.groupby(\"Family\").size()\n",
        "family_mean = (df_train.groupby(\"Family\").Survived.mean())*100\n",
        "print(pd.concat([family_count,family_mean],keys=[\"Count\",\"SurvivalPerc\"],axis=1).sort_values(by = 'SurvivalPerc', ascending = False))"
      ]
    },
    {
      "cell_type": "markdown",
      "metadata": {
        "id": "6Aeba8ZPfDuw"
      },
      "source": [
        "#### Fare feature\n",
        "\n",
        "We can check the correlation of the 'Fare' feature with other features. The highest negative correlation is with the 'Pclass'. Therefore, we will fill the missing value in the test data with the mean value corresponding to the 'Pclass' of that entry."
      ]
    },
    {
      "cell_type": "code",
      "execution_count": 17,
      "metadata": {
        "colab": {
          "base_uri": "https://localhost:8080/"
        },
        "id": "8l-UTZvpfDux",
        "outputId": "8d09e87c-3a4f-4c01-aa47-15b3be6ef92c"
      },
      "outputs": [
        {
          "name": "stdout",
          "output_type": "stream",
          "text": [
            "Fare           1.000000\n",
            "Survived       0.257307\n",
            "Family         0.217138\n",
            "Parch          0.216225\n",
            "Sex            0.182333\n",
            "SibSp          0.159651\n",
            "Age            0.092697\n",
            "PassengerId    0.012658\n",
            "Alone         -0.271832\n",
            "Pclass        -0.549500\n",
            "Name: Fare, dtype: float64\n"
          ]
        }
      ],
      "source": [
        "# check correlation between Fare and other features\n",
        "print(df_train.corr()[\"Fare\"].sort_values(ascending=False))\n",
        "\n",
        "# fill missing values for Fare\n",
        "df_test.Fare.fillna(df_train.groupby('Pclass').Fare.transform('mean'),inplace = True)"
      ]
    },
    {
      "cell_type": "markdown",
      "metadata": {
        "id": "Cn_WgpQ8fDux"
      },
      "source": [
        "Furthermore, we can group the fare features by quartiles and check the survival rate. Then we can apply this grouping on both of our datasets."
      ]
    },
    {
      "cell_type": "code",
      "execution_count": 18,
      "metadata": {
        "colab": {
          "base_uri": "https://localhost:8080/"
        },
        "id": "IzJ1huaQfDux",
        "outputId": "3aadf11d-d132-4eb2-f5db-af5b65a3ac47"
      },
      "outputs": [
        {
          "name": "stdout",
          "output_type": "stream",
          "text": [
            "                 Survived\n",
            "FareGroup                \n",
            "(-0.001, 7.91]   0.197309\n",
            "(7.91, 14.454]   0.303571\n",
            "(14.454, 31.0]   0.454955\n",
            "(31.0, 512.329]  0.581081\n"
          ]
        }
      ],
      "source": [
        "# split fare into quartiles\n",
        "df_train['FareGroup'] = pd.qcut(df_train['Fare'], 4)\n",
        "print(df_train[['FareGroup', 'Survived']].groupby(['FareGroup']).mean().sort_values(by='FareGroup', ascending=True))\n",
        "\n",
        "# group fare data into 4 groups\n",
        "def group_fare(entry):\n",
        "    if entry <= 7.91:\n",
        "        return 0\n",
        "    elif (entry > 7.91) & (entry <= 14.454):\n",
        "        return 1\n",
        "    elif (entry > 14.454) & (entry <= 31):\n",
        "        return 2\n",
        "    else:\n",
        "        return 3\n",
        "\n",
        "        \n",
        "df_train['Fare'] = df_train.Fare.apply(group_fare)\n",
        "df_test['Fare'] = df_test.Fare.apply(group_fare)"
      ]
    },
    {
      "cell_type": "markdown",
      "metadata": {
        "id": "-72sk6-yfDuy"
      },
      "source": [
        "#### Categorical features one-hot encoding\n",
        "\n",
        "Next, we have to encode the categorical features."
      ]
    },
    {
      "cell_type": "code",
      "execution_count": 19,
      "metadata": {
        "colab": {
          "base_uri": "https://localhost:8080/",
          "height": 0
        },
        "id": "6HemqDHqfDuy",
        "outputId": "ded6929d-721c-4290-e5f8-4c5149ae61d3"
      },
      "outputs": [
        {
          "data": {
            "text/html": [
              "\n",
              "  <div id=\"df-08dfcc18-a8dd-404f-8ecb-ff27a2c013a3\">\n",
              "    <div class=\"colab-df-container\">\n",
              "      <div>\n",
              "<style scoped>\n",
              "    .dataframe tbody tr th:only-of-type {\n",
              "        vertical-align: middle;\n",
              "    }\n",
              "\n",
              "    .dataframe tbody tr th {\n",
              "        vertical-align: top;\n",
              "    }\n",
              "\n",
              "    .dataframe thead th {\n",
              "        text-align: right;\n",
              "    }\n",
              "</style>\n",
              "<table border=\"1\" class=\"dataframe\">\n",
              "  <thead>\n",
              "    <tr style=\"text-align: right;\">\n",
              "      <th></th>\n",
              "      <th>PassengerId</th>\n",
              "      <th>Survived</th>\n",
              "      <th>Sex</th>\n",
              "      <th>Age</th>\n",
              "      <th>Fare</th>\n",
              "      <th>Family</th>\n",
              "      <th>Alone</th>\n",
              "      <th>FirstClass</th>\n",
              "      <th>SecondClass</th>\n",
              "      <th>ThirdClass</th>\n",
              "      <th>Embarked_C</th>\n",
              "      <th>Embarked_Q</th>\n",
              "      <th>Embarked_S</th>\n",
              "      <th>Master</th>\n",
              "      <th>Miss</th>\n",
              "      <th>Mr</th>\n",
              "      <th>Mrs</th>\n",
              "      <th>Other</th>\n",
              "    </tr>\n",
              "  </thead>\n",
              "  <tbody>\n",
              "    <tr>\n",
              "      <th>0</th>\n",
              "      <td>1</td>\n",
              "      <td>0</td>\n",
              "      <td>0</td>\n",
              "      <td>22</td>\n",
              "      <td>0</td>\n",
              "      <td>1</td>\n",
              "      <td>0</td>\n",
              "      <td>0</td>\n",
              "      <td>0</td>\n",
              "      <td>1</td>\n",
              "      <td>0</td>\n",
              "      <td>0</td>\n",
              "      <td>1</td>\n",
              "      <td>0</td>\n",
              "      <td>0</td>\n",
              "      <td>1</td>\n",
              "      <td>0</td>\n",
              "      <td>0</td>\n",
              "    </tr>\n",
              "    <tr>\n",
              "      <th>1</th>\n",
              "      <td>2</td>\n",
              "      <td>1</td>\n",
              "      <td>1</td>\n",
              "      <td>38</td>\n",
              "      <td>3</td>\n",
              "      <td>1</td>\n",
              "      <td>0</td>\n",
              "      <td>1</td>\n",
              "      <td>0</td>\n",
              "      <td>0</td>\n",
              "      <td>1</td>\n",
              "      <td>0</td>\n",
              "      <td>0</td>\n",
              "      <td>0</td>\n",
              "      <td>0</td>\n",
              "      <td>0</td>\n",
              "      <td>1</td>\n",
              "      <td>0</td>\n",
              "    </tr>\n",
              "    <tr>\n",
              "      <th>2</th>\n",
              "      <td>3</td>\n",
              "      <td>1</td>\n",
              "      <td>1</td>\n",
              "      <td>26</td>\n",
              "      <td>1</td>\n",
              "      <td>0</td>\n",
              "      <td>1</td>\n",
              "      <td>0</td>\n",
              "      <td>0</td>\n",
              "      <td>1</td>\n",
              "      <td>0</td>\n",
              "      <td>0</td>\n",
              "      <td>1</td>\n",
              "      <td>0</td>\n",
              "      <td>1</td>\n",
              "      <td>0</td>\n",
              "      <td>0</td>\n",
              "      <td>0</td>\n",
              "    </tr>\n",
              "    <tr>\n",
              "      <th>3</th>\n",
              "      <td>4</td>\n",
              "      <td>1</td>\n",
              "      <td>1</td>\n",
              "      <td>35</td>\n",
              "      <td>3</td>\n",
              "      <td>1</td>\n",
              "      <td>0</td>\n",
              "      <td>1</td>\n",
              "      <td>0</td>\n",
              "      <td>0</td>\n",
              "      <td>0</td>\n",
              "      <td>0</td>\n",
              "      <td>1</td>\n",
              "      <td>0</td>\n",
              "      <td>0</td>\n",
              "      <td>0</td>\n",
              "      <td>1</td>\n",
              "      <td>0</td>\n",
              "    </tr>\n",
              "    <tr>\n",
              "      <th>4</th>\n",
              "      <td>5</td>\n",
              "      <td>0</td>\n",
              "      <td>0</td>\n",
              "      <td>35</td>\n",
              "      <td>1</td>\n",
              "      <td>0</td>\n",
              "      <td>1</td>\n",
              "      <td>0</td>\n",
              "      <td>0</td>\n",
              "      <td>1</td>\n",
              "      <td>0</td>\n",
              "      <td>0</td>\n",
              "      <td>1</td>\n",
              "      <td>0</td>\n",
              "      <td>0</td>\n",
              "      <td>1</td>\n",
              "      <td>0</td>\n",
              "      <td>0</td>\n",
              "    </tr>\n",
              "  </tbody>\n",
              "</table>\n",
              "</div>\n",
              "      <button class=\"colab-df-convert\" onclick=\"convertToInteractive('df-08dfcc18-a8dd-404f-8ecb-ff27a2c013a3')\"\n",
              "              title=\"Convert this dataframe to an interactive table.\"\n",
              "              style=\"display:none;\">\n",
              "        \n",
              "  <svg xmlns=\"http://www.w3.org/2000/svg\" height=\"24px\"viewBox=\"0 0 24 24\"\n",
              "       width=\"24px\">\n",
              "    <path d=\"M0 0h24v24H0V0z\" fill=\"none\"/>\n",
              "    <path d=\"M18.56 5.44l.94 2.06.94-2.06 2.06-.94-2.06-.94-.94-2.06-.94 2.06-2.06.94zm-11 1L8.5 8.5l.94-2.06 2.06-.94-2.06-.94L8.5 2.5l-.94 2.06-2.06.94zm10 10l.94 2.06.94-2.06 2.06-.94-2.06-.94-.94-2.06-.94 2.06-2.06.94z\"/><path d=\"M17.41 7.96l-1.37-1.37c-.4-.4-.92-.59-1.43-.59-.52 0-1.04.2-1.43.59L10.3 9.45l-7.72 7.72c-.78.78-.78 2.05 0 2.83L4 21.41c.39.39.9.59 1.41.59.51 0 1.02-.2 1.41-.59l7.78-7.78 2.81-2.81c.8-.78.8-2.07 0-2.86zM5.41 20L4 18.59l7.72-7.72 1.47 1.35L5.41 20z\"/>\n",
              "  </svg>\n",
              "      </button>\n",
              "      \n",
              "  <style>\n",
              "    .colab-df-container {\n",
              "      display:flex;\n",
              "      flex-wrap:wrap;\n",
              "      gap: 12px;\n",
              "    }\n",
              "\n",
              "    .colab-df-convert {\n",
              "      background-color: #E8F0FE;\n",
              "      border: none;\n",
              "      border-radius: 50%;\n",
              "      cursor: pointer;\n",
              "      display: none;\n",
              "      fill: #1967D2;\n",
              "      height: 32px;\n",
              "      padding: 0 0 0 0;\n",
              "      width: 32px;\n",
              "    }\n",
              "\n",
              "    .colab-df-convert:hover {\n",
              "      background-color: #E2EBFA;\n",
              "      box-shadow: 0px 1px 2px rgba(60, 64, 67, 0.3), 0px 1px 3px 1px rgba(60, 64, 67, 0.15);\n",
              "      fill: #174EA6;\n",
              "    }\n",
              "\n",
              "    [theme=dark] .colab-df-convert {\n",
              "      background-color: #3B4455;\n",
              "      fill: #D2E3FC;\n",
              "    }\n",
              "\n",
              "    [theme=dark] .colab-df-convert:hover {\n",
              "      background-color: #434B5C;\n",
              "      box-shadow: 0px 1px 3px 1px rgba(0, 0, 0, 0.15);\n",
              "      filter: drop-shadow(0px 1px 2px rgba(0, 0, 0, 0.3));\n",
              "      fill: #FFFFFF;\n",
              "    }\n",
              "  </style>\n",
              "\n",
              "      <script>\n",
              "        const buttonEl =\n",
              "          document.querySelector('#df-08dfcc18-a8dd-404f-8ecb-ff27a2c013a3 button.colab-df-convert');\n",
              "        buttonEl.style.display =\n",
              "          google.colab.kernel.accessAllowed ? 'block' : 'none';\n",
              "\n",
              "        async function convertToInteractive(key) {\n",
              "          const element = document.querySelector('#df-08dfcc18-a8dd-404f-8ecb-ff27a2c013a3');\n",
              "          const dataTable =\n",
              "            await google.colab.kernel.invokeFunction('convertToInteractive',\n",
              "                                                     [key], {});\n",
              "          if (!dataTable) return;\n",
              "\n",
              "          const docLinkHtml = 'Like what you see? Visit the ' +\n",
              "            '<a target=\"_blank\" href=https://colab.research.google.com/notebooks/data_table.ipynb>data table notebook</a>'\n",
              "            + ' to learn more about interactive tables.';\n",
              "          element.innerHTML = '';\n",
              "          dataTable['output_type'] = 'display_data';\n",
              "          await google.colab.output.renderOutput(dataTable, element);\n",
              "          const docLink = document.createElement('div');\n",
              "          docLink.innerHTML = docLinkHtml;\n",
              "          element.appendChild(docLink);\n",
              "        }\n",
              "      </script>\n",
              "    </div>\n",
              "  </div>\n",
              "  "
            ],
            "text/plain": [
              "   PassengerId  Survived  Sex  Age  Fare  Family  Alone  FirstClass  \\\n",
              "0            1         0    0   22     0       1      0           0   \n",
              "1            2         1    1   38     3       1      0           1   \n",
              "2            3         1    1   26     1       0      1           0   \n",
              "3            4         1    1   35     3       1      0           1   \n",
              "4            5         0    0   35     1       0      1           0   \n",
              "\n",
              "   SecondClass  ThirdClass  Embarked_C  Embarked_Q  Embarked_S  Master  Miss  \\\n",
              "0            0           1           0           0           1       0     0   \n",
              "1            0           0           1           0           0       0     0   \n",
              "2            0           1           0           0           1       0     1   \n",
              "3            0           0           0           0           1       0     0   \n",
              "4            0           1           0           0           1       0     0   \n",
              "\n",
              "   Mr  Mrs  Other  \n",
              "0   1    0      0  \n",
              "1   0    1      0  \n",
              "2   0    0      0  \n",
              "3   0    1      0  \n",
              "4   1    0      0  "
            ]
          },
          "execution_count": 19,
          "metadata": {},
          "output_type": "execute_result"
        }
      ],
      "source": [
        "# Create different class columns\n",
        "df_train[['FirstClass','SecondClass','ThirdClass']] = pd.get_dummies(df_train.Pclass)\n",
        "df_test[['FirstClass','SecondClass','ThirdClass']] = pd.get_dummies(df_test.Pclass)\n",
        "\n",
        "# Create different embarked columns\n",
        "df_train[['Embarked_C','Embarked_Q','Embarked_S']] = pd.get_dummies(df_train.Embarked)\n",
        "df_test[['Embarked_C','Embarked_Q','Embarked_S']] = pd.get_dummies(df_test.Embarked)\n",
        "\n",
        "# Create different title columns\n",
        "df_train = pd.concat([df_train,pd.get_dummies(df_train.Title)],axis = 1)\n",
        "df_test = pd.concat([df_test,pd.get_dummies(df_test.Title)],axis = 1)\n",
        "\n",
        "# drop old columns\n",
        "df_train.drop(columns = ['Embarked','Pclass','SibSp','Parch','Title','Name','FareGroup'],inplace = True)\n",
        "df_test.drop(columns = ['Embarked','Pclass','SibSp','Parch','Title','Name'],inplace = True)\n",
        "\n",
        "df_train.head()"
      ]
    },
    {
      "cell_type": "markdown",
      "metadata": {
        "id": "_iAUNRUCfDuz"
      },
      "source": [
        "#### Select features, split and standardize data\n",
        "\n",
        "Here, we can choose different features that we want to include in our analysis and iteratively decide wich features contribute most effectively to the model. Then, the data is split eaither by a stratified split or by a random one. The data can also be standardized here (but it is already standardized later using the pipeline wit the models)"
      ]
    },
    {
      "cell_type": "code",
      "execution_count": 20,
      "metadata": {
        "colab": {
          "base_uri": "https://localhost:8080/"
        },
        "id": "DNIcnm_vfDuz",
        "outputId": "cf002bc7-463c-4dcd-ad7f-a8f0648dd9a1"
      },
      "outputs": [
        {
          "name": "stdout",
          "output_type": "stream",
          "text": [
            "Target variable (Survived) percentage in train data:\n",
            "0    0.627809\n",
            "1    0.372191\n",
            "Name: Survived, dtype: float64\n",
            "Target variable (Survived) percentage in test data:\n",
            "0    0.569832\n",
            "1    0.430168\n",
            "Name: Survived, dtype: float64\n"
          ]
        }
      ],
      "source": [
        "# Select the desired features\n",
        "chosen_features = [ 'Sex',\n",
        "                    'Age',\n",
        "                    'FirstClass',\n",
        "                    'SecondClass',\n",
        "                    'ThirdClass',\n",
        "                    'Family',\n",
        "                    'Embarked_C',\n",
        "                    'Embarked_Q',\n",
        "                    'Embarked_S',\n",
        "                    # 'Alone',\n",
        "                    'Fare',\n",
        "                    'Master',\n",
        "                    'Miss',\n",
        "                    'Mr',\n",
        "                    'Mrs',\n",
        "                    'Other'\n",
        "                    ]\n",
        "\n",
        "\n",
        "# split data into features and target variables                    \n",
        "features = df_train[chosen_features]\n",
        "survival = df_train.Survived\n",
        "\n",
        "# Perform train and test split\n",
        "stratify = None\n",
        "X_train, X_test ,y_train, y_test = train_test_split(features,survival, test_size = 0.2, stratify=stratify)\n",
        "\n",
        "# check data imbalance\n",
        "print('Target variable (''Survived'') percentage in train data:')\n",
        "print(y_train.value_counts(normalize = True))\n",
        "print('Target variable (''Survived'') percentage in test data:')\n",
        "print(y_test.value_counts(normalize = True))\n",
        "\n",
        "# # Scale the feature data so it has mean = 0 and standard deviation = 1\n",
        "# stdScaler = StandardScaler()\n",
        "# X_train_std = stdScaler.fit_transform(X_train)\n",
        "# X_test_std = stdScaler.transform(X_test)"
      ]
    },
    {
      "cell_type": "markdown",
      "metadata": {
        "id": "nPWUrP2MfDu0"
      },
      "source": [
        "### **Machine Learning Models**\n",
        "\n",
        "We can test various models, perform hyperparameter tunning and compare the results for the same set of data."
      ]
    },
    {
      "cell_type": "markdown",
      "metadata": {
        "id": "Zbxq4UtWfDu0"
      },
      "source": [
        "#### Logistic Regression"
      ]
    },
    {
      "cell_type": "code",
      "execution_count": 21,
      "metadata": {
        "colab": {
          "base_uri": "https://localhost:8080/"
        },
        "id": "mHp_Eu45fDu0",
        "outputId": "78d39ef2-c8d0-407b-c7e4-f8f21e604bf8"
      },
      "outputs": [
        {
          "name": "stdout",
          "output_type": "stream",
          "text": [
            "Best parameters set found on validation set:\n",
            "\n",
            "{'model__C': 10.0, 'model__tol': 0.0001} score: 0.8188614202698709\n",
            "\n",
            "Coefficients:\n",
            "[('Sex', 1.6393931842958158), ('Age', -0.4127969698952014), ('FirstClass', 0.46929514983786835), ('SecondClass', 0.02693735407087835), ('ThirdClass', -0.4212410163281288), ('Family', -0.7286675544717361), ('Embarked_C', 0.07374740600516035), ('Embarked_Q', 0.048662185297107925), ('Embarked_S', -0.09553152114128102), ('Fare', 0.26976389296792525), ('Master', 0.6042815713809312), ('Miss', -0.33643731622956946), ('Mr', 0.007819171593750864), ('Mrs', 0.00757704767067978), ('Other', -0.0050106660371208745)]\n",
            "\n",
            "Logistic Regression model score (validation data): 0.8883\n"
          ]
        }
      ],
      "source": [
        "# make pipeline to scale the data\n",
        "LRpipe= Pipeline(steps = [('standardize',StandardScaler()),( 'model',LogisticRegression() )]) # minMaxScaler!!!\n",
        "\n",
        "# use grid search to search for best parameters\n",
        "params = {\n",
        "    \"model__tol\": (0.0001, 0.06, 0.08, 0.1, 0.3, 0.5),\n",
        "    \"model__C\": (10.0, 1.0, 0.1)\n",
        "}\n",
        "\n",
        "LRclf = GridSearchCV(LRpipe, params, scoring ='accuracy')\n",
        "\n",
        "# find the estimator with best parameters and training data\n",
        "LRclf.fit(X_train, y_train)\n",
        "  \n",
        "print(\"Best parameters set found on validation set:\")\n",
        "print()\n",
        "print(LRclf.best_params_,f'score: {LRclf.best_score_}')\n",
        "print()\n",
        "\n",
        "# Analyze the coefficients\n",
        "print('Coefficients:')\n",
        "print(list(zip(features,LRclf.best_estimator_.named_steps['model'].coef_[0])))\n",
        "print()\n",
        "\n",
        "# Score the model on the validation data\n",
        "LRclf_score = LRclf.score(X_test,y_test)\n",
        "print(f'Logistic Regression model score (validation data): {LRclf_score:.4f}')"
      ]
    },
    {
      "cell_type": "markdown",
      "metadata": {
        "id": "gn32h_vLfDu1"
      },
      "source": [
        "#### K-Neighbors Classifier\n"
      ]
    },
    {
      "cell_type": "code",
      "execution_count": 22,
      "metadata": {
        "colab": {
          "base_uri": "https://localhost:8080/"
        },
        "id": "4smiJNrSfDu1",
        "outputId": "eff23907-48c7-40db-a3f7-2b25d4c494dd"
      },
      "outputs": [
        {
          "name": "stdout",
          "output_type": "stream",
          "text": [
            "Best parameters set found on validation set:\n",
            "\n",
            "{'model__weights': 'uniform', 'model__n_neighbors': 11, 'model__leaf_size': 29} score: 0.8202501723628484\n",
            "\n",
            "K-Neighbors model score (validation data): 0.8603\n"
          ]
        }
      ],
      "source": [
        "# standardize data\n",
        "pipe = Pipeline(steps=[('standardize', StandardScaler()),('model',KNeighborsClassifier())])\n",
        "\n",
        "# perform randomized search for best parameters\n",
        "k_range = list(range(1, 31))\n",
        "weight_options = ['uniform', 'distance']\n",
        "leaf_size = list(range(20,40))\n",
        "\n",
        "param_grid = dict(model__n_neighbors=k_range, model__weights=weight_options, model__leaf_size = leaf_size)\n",
        "\n",
        "KNclf = RandomizedSearchCV(pipe, param_grid, scoring='accuracy', n_iter=30)\n",
        "\n",
        "# fit the model\n",
        "KNclf.fit(X_train, y_train)\n",
        "\n",
        "print(\"Best parameters set found on validation set:\")\n",
        "print()\n",
        "print(KNclf.best_params_,f'score: {KNclf.best_score_}')\n",
        "print()\n",
        "\n",
        "# get the score\n",
        "KNclf_score = KNclf.score(X_test,y_test)\n",
        "print(f'K-Neighbors model score (validation data): {KNclf_score:.4f}')"
      ]
    },
    {
      "cell_type": "markdown",
      "metadata": {
        "id": "g6grWh7lfDu1"
      },
      "source": [
        "#### Naive Bayes Classifier"
      ]
    },
    {
      "cell_type": "code",
      "execution_count": 23,
      "metadata": {
        "id": "tiYl0_yifDu1"
      },
      "outputs": [],
      "source": [
        "# # create and fit Naive Bayes Classifier\n",
        "# MNBclf = MultinomialNB()\n",
        "\n",
        "# # Kfold cross validation\n",
        "# kfold = KFold(n_splits=5, shuffle=True)\n",
        "# results = cross_val_score(MNBclf, X_train.values, y_train.values, cv=kfold, scoring='accuracy')\n",
        "# print('KFold results:',results)\n",
        "# print(\"Average: %.2f%%\" % (results.mean()*100))\n",
        "\n",
        "# # see the accuracy\n",
        "# print()\n",
        "# MNBclf.fit(X_train.values,y_train.values)\n",
        "# MNBclf_score = MNBclf.score(X_test.values,y_test.values)\n",
        "# print(f'Naive Bayes model score (validation data): {MNBclf_score:.4f}')"
      ]
    },
    {
      "cell_type": "markdown",
      "metadata": {
        "id": "fH9gNRhffDu2"
      },
      "source": [
        "#### SVM"
      ]
    },
    {
      "cell_type": "code",
      "execution_count": 24,
      "metadata": {
        "colab": {
          "base_uri": "https://localhost:8080/"
        },
        "id": "Ah87V-bBfDu2",
        "outputId": "09a08d40-7031-45a8-d74f-29aa76765269"
      },
      "outputs": [
        {
          "name": "stdout",
          "output_type": "stream",
          "text": [
            "Best parameters set found on validation set:\n",
            "\n",
            "{'model__C': 0.08, 'model__gamma': 0.08} score: 0.8062050625430907\n",
            "\n",
            "SVC model score (validation data): 0.8771\n"
          ]
        }
      ],
      "source": [
        "# check for the best parameters\n",
        "C_range = np.arange(0.08,0.1,0.2)\n",
        "gamma_range = np.arange(0.08,0.1,0.2)\n",
        "parameters = [\n",
        "              {'model__C': C_range,\n",
        "               'model__gamma': gamma_range\n",
        "              },\n",
        "             ]\n",
        "\n",
        "# define pipeline for the grid search\n",
        "pipe = Pipeline(steps=[('standardize', StandardScaler()),('model',SVC(kernel = 'rbf'))])\n",
        "SVCclf = GridSearchCV(pipe, parameters, scoring ='accuracy')\n",
        "\n",
        "# find the estimator with best parameters and training data\n",
        "SVCclf.fit(X_train, y_train)\n",
        "  \n",
        "print(\"Best parameters set found on validation set:\")\n",
        "print()\n",
        "print(SVCclf.best_params_,f'score: {SVCclf.best_score_}')\n",
        "print()\n",
        "\n",
        "# see the score\n",
        "SVCclf_score = SVCclf.score(X_test,y_test)\n",
        "print(f'SVC model score (validation data): {SVCclf_score:.4f}')"
      ]
    },
    {
      "cell_type": "markdown",
      "metadata": {
        "id": "kt_RtW9xfDu6"
      },
      "source": [
        "#### Decision tree\n"
      ]
    },
    {
      "cell_type": "code",
      "execution_count": 25,
      "metadata": {
        "colab": {
          "base_uri": "https://localhost:8080/",
          "height": 366
        },
        "id": "AP2cK80mfDu7",
        "outputId": "f49e001d-d07d-4921-a4a6-e2341fffdaca"
      },
      "outputs": [
        {
          "name": "stdout",
          "output_type": "stream",
          "text": [
            "Best parameters set found on validation set:\n",
            "\n",
            "{'model__max_depth': 3} score: 0.8090318132571653\n",
            "\n",
            "Decision Tree model score (validation data): 0.8715\n"
          ]
        },
        {
          "data": {
            "image/png": "[encoded data removed]",
            "text/plain": [
              "<Figure size 432x288 with 1 Axes>"
            ]
          },
          "metadata": {},
          "output_type": "display_data"
        }
      ],
      "source": [
        "# check for the best parameters\n",
        "maxDepth = np.arange(1,21)\n",
        "parameters = {'model__max_depth': maxDepth\n",
        "             }\n",
        "\n",
        "# define pipeline for the grid search\n",
        "DTpipe = Pipeline(steps=[('model',DecisionTreeClassifier())])\n",
        "DTclf = GridSearchCV(DTpipe, parameters, scoring ='accuracy')\n",
        "\n",
        "# find the estimator with best parameters and training data\n",
        "DTclf.fit(X_train, y_train)\n",
        "  \n",
        "print(\"Best parameters set found on validation set:\")\n",
        "print()\n",
        "print(DTclf.best_params_,f'score: {DTclf.best_score_}')\n",
        "print()\n",
        "\n",
        "# see the score\n",
        "DTclf_score = DTclf.score(X_test,y_test)\n",
        "print(f'Decision Tree model score (validation data): {DTclf_score:.4f}')\n",
        "\n",
        "# plot results\n",
        "plt.plot(maxDepth,DTclf.cv_results_['mean_test_score'])\n",
        "plt.xlabel('MaxDepth')\n",
        "plt.ylabel('Score')\n",
        "plt.show()\n"
      ]
    },
    {
      "cell_type": "markdown",
      "metadata": {
        "id": "Pm4AOQw8fDu7"
      },
      "source": [
        "#### Random Forest Classifier\n"
      ]
    },
    {
      "cell_type": "code",
      "execution_count": 26,
      "metadata": {
        "colab": {
          "base_uri": "https://localhost:8080/"
        },
        "id": "LygSd5ZFfDu7",
        "outputId": "d3c74c1e-0ac8-411c-d679-0a5d49cd3fc0"
      },
      "outputs": [
        {
          "name": "stdout",
          "output_type": "stream",
          "text": [
            "Best parameters set found on validation set:\n",
            "\n",
            "{'n_estimators': 100, 'min_samples_split': 10, 'min_samples_leaf': 1, 'max_depth': 5, 'bootstrap': False} score: 0.8287107258938246\n",
            "\n",
            "[('Sex', 0.1826824395993916), ('Age', 0.05842502657744263), ('FirstClass', 0.07172038567110471), ('SecondClass', 0.024378099338695215), ('ThirdClass', 0.09723153559795523), ('Family', 0.08002798915326936), ('Embarked_C', 0.014526085311473327), ('Embarked_Q', 0.007632437162720893), ('Embarked_S', 0.013309560718644302), ('Fare', 0.0617906200394093), ('Master', 0.014953991978916416), ('Miss', 0.0799609974242169), ('Mr', 0.22457557993823557), ('Mrs', 0.06122452228461599), ('Other', 0.007560729203908624)]\n",
            "\n",
            "Random forest model score (validation data): 0.8715\n"
          ]
        }
      ],
      "source": [
        "n_cpus = multiprocessing.cpu_count()\n",
        "print(n_cpus)\n",
        "\n",
        "# Number of trees in random forest\n",
        "n_estimators = [100,200,300,500]\n",
        "# Maximum number of levels in tree\n",
        "max_depth = [None, 3,4,5]\n",
        "# Minimum number of samples required to split a node\n",
        "min_samples_split = [2, 5, 10]\n",
        "# Minimum number of samples required at each leaf node\n",
        "min_samples_leaf = [1, 2, 4]\n",
        "# Method of selecting samples for training each tree\n",
        "bootstrap = [True, False]\n",
        "# Create the random grid\n",
        "random_grid = {'n_estimators': n_estimators,\n",
        "               'max_depth': max_depth,\n",
        "               'min_samples_split': min_samples_split,\n",
        "               'min_samples_leaf': min_samples_leaf,\n",
        "               'bootstrap': bootstrap}\n",
        "\n",
        "RFclf = RandomizedSearchCV(estimator = RandomForestClassifier(), param_distributions = random_grid, n_iter = 100, n_jobs = 15)\n",
        "\n",
        "# fit random forest\n",
        "RFclf.fit(X_train,y_train)\n",
        "\n",
        "print(\"Best parameters set found on validation set:\")\n",
        "print()\n",
        "print(RFclf.best_params_,f'score: {RFclf.best_score_}')\n",
        "print()\n",
        "\n",
        "# print feature importance\n",
        "print(list(zip(features.columns,RFclf.best_estimator_.feature_importances_)))\n",
        "print()\n",
        "\n",
        "# get the score\n",
        "RFclf_score = RFclf.score(X_test,y_test)\n",
        "print(f'Random forest model score (validation data): {RFclf_score:.4f}')\n"
      ]
    },
    {
      "cell_type": "markdown",
      "metadata": {
        "id": "QY0juJpBfDu8"
      },
      "source": [
        "#### Gradient Boosting Classifier\n"
      ]
    },
    {
      "cell_type": "code",
      "execution_count": 27,
      "metadata": {
        "colab": {
          "base_uri": "https://localhost:8080/"
        },
        "id": "igaCp0SPfDu8",
        "outputId": "f199bc08-d348-42ee-f007-63c7beb8af01"
      },
      "outputs": [
        {
          "name": "stdout",
          "output_type": "stream",
          "text": [
            "Best parameters set found on validation set:\n",
            "\n",
            "{'learning_rate': 0.022, 'max_depth': 4, 'n_estimators': 150, 'subsample': 1.0} score: 0.8399093863882596\n",
            "\n",
            "Gradient Boosting Classifier score (validation data): 0.8380\n"
          ]
        }
      ],
      "source": [
        "# define parameters for the grid search\n",
        "param_grid = {'learning_rate': [0.1, 0.02, 0.022],\n",
        "              'subsample'    : [1.0, 0.5, 0.6, 0.7],\n",
        "              'n_estimators' : [100,150,200],\n",
        "              'max_depth'    : [3,4]\n",
        "              }\n",
        "\n",
        "GBclf = GridSearchCV(GradientBoostingClassifier(), param_grid, scoring ='accuracy', n_jobs = 15)\n",
        "\n",
        "# find the estimator with best parameters and training data\n",
        "GBclf.fit(X_train, y_train)\n",
        "  \n",
        "print(\"Best parameters set found on validation set:\")\n",
        "print()\n",
        "print(GBclf.best_params_,f'score: {GBclf.best_score_}')\n",
        "print()\n",
        "\n",
        "# Score the model on the test data\n",
        "GBclf_score = GBclf.score(X_test,y_test)\n",
        "print(f'Gradient Boosting Classifier score (validation data): {GBclf_score:.4f}')"
      ]
    },
    {
      "cell_type": "markdown",
      "metadata": {
        "id": "OAPlWRk9fDu9"
      },
      "source": [
        "#### XGBoost"
      ]
    },
    {
      "cell_type": "code",
      "execution_count": 28,
      "metadata": {
        "colab": {
          "base_uri": "https://localhost:8080/"
        },
        "id": "1ovKUtOwfDu9",
        "outputId": "37053f9e-7ad8-4b79-d952-5537351d6bc7"
      },
      "outputs": [
        {
          "name": "stdout",
          "output_type": "stream",
          "text": [
            "Best parameters set found on validation set:\n",
            "\n",
            "{'learning_rate': 0.022, 'max_depth': 4, 'min_child_weight': 1, 'n_estimators': 200, 'subsample': 0.6} score: 0.8371023342854329\n",
            "\n",
            "XGB Classifier score (validation data): 0.8603\n"
          ]
        }
      ],
      "source": [
        "param_grid = {'learning_rate': [0.1, 0.02, 0.022],\n",
        "              'subsample'    : [1.0, 0.5, 0.6, 0.7],\n",
        "              'n_estimators' : [100,150,200,250],\n",
        "              'max_depth'    : [3,4],\n",
        "              'min_child_weight': range(1,4,2)\n",
        "              }\n",
        "\n",
        "XGBclf = GridSearchCV(XGBClassifier(), param_grid, scoring ='accuracy',n_jobs = 15)\n",
        "\n",
        "# find the estimator with best parameters and training data\n",
        "XGBclf.fit(X_train, y_train)\n",
        "  \n",
        "print(\"Best parameters set found on validation set:\")\n",
        "print()\n",
        "print(XGBclf.best_params_,f'score: {XGBclf.best_score_}')\n",
        "print()\n",
        "\n",
        "# Score the model on the test data\n",
        "XGBclf_score = XGBclf.score(X_test,y_test)\n",
        "print(f'XGB Classifier score (validation data): {XGBclf_score:.4f}')"
      ]
    },
    {
      "cell_type": "markdown",
      "metadata": {
        "id": "VUeC-tt5fDu9"
      },
      "source": [
        "### **Submission**\n",
        "\n",
        "Now, the best model has to be chosen..."
      ]
    },
    {
      "cell_type": "code",
      "execution_count": 29,
      "metadata": {
        "colab": {
          "base_uri": "https://localhost:8080/"
        },
        "id": "cC85af8wfDu-",
        "outputId": "1c34f342-e98e-4f25-dd02-17550ddf0a67"
      },
      "outputs": [
        {
          "name": "stdout",
          "output_type": "stream",
          "text": [
            "Model accuracy results\n",
            "\n",
            "LR:  88.83%\n",
            "KNN:  86.03%\n",
            "SVC:  87.71%\n",
            "DT: 87.15%\n",
            "RF: 87.15%\n",
            "GBC: 83.80%\n",
            "XGBC: 86.03%\n",
            "\n",
            "Best model is LR with the accuracy of 0.8883\n"
          ]
        }
      ],
      "source": [
        "# print scores for each model\n",
        "print('Model accuracy results')\n",
        "print()\n",
        "print('LR:  %.2f%%' % (LRclf_score*100))\n",
        "print('KNN:  %.2f%%' % (KNclf_score*100))\n",
        "# print('MNB:  %.2f%%' % (MNBclf_score*100))\n",
        "print('SVC:  %.2f%%' % (SVCclf_score*100))\n",
        "print('DT: %.2f%%' % (DTclf_score*100))\n",
        "print('RF: %.2f%%' % (RFclf_score*100))\n",
        "print('GBC: %.2f%%' % (GBclf_score*100))\n",
        "print('XGBC: %.2f%%' % (XGBclf_score*100))\n",
        "print()\n",
        "\n",
        "# create models list\n",
        "models_list = [\n",
        "                [LRclf,'LR',LRclf_score],\n",
        "                [KNclf,'KNN',KNclf_score],\n",
        "                # [MNBclf,'MNB',MNBclf_score],\n",
        "                [SVCclf,'SVC',SVCclf_score],\n",
        "                [DTclf,'DT',DTclf_score],\n",
        "                [RFclf,'RF',RFclf_score],\n",
        "                [GBclf,'GBC',GBclf_score],\n",
        "                [XGBclf,'XGBC',XGBclf_score]\n",
        "                ]\n",
        "\n",
        "# get scores for each model and choose the highest one\n",
        "model_scores = [model[2] for model in models_list]\n",
        "best_model_index = np.argmax(model_scores)\n",
        "\n",
        "# define best model\n",
        "final_model = models_list[best_model_index][0]\n",
        "print(f'Best model is {models_list[best_model_index][1]} with the accuracy of {max(model_scores):.4f}')\n",
        "\n",
        "# # choose model manually\n",
        "# final_model = XGBclf"
      ]
    },
    {
      "cell_type": "markdown",
      "metadata": {
        "id": "okCLX10sfDu-"
      },
      "source": [
        "### Test data\n",
        "\n",
        "If we check the test data, we can see that there are missing values under 'Fare'. After we fill the missing values, the data is ready for putting in the final model."
      ]
    },
    {
      "cell_type": "code",
      "execution_count": 30,
      "metadata": {
        "colab": {
          "base_uri": "https://localhost:8080/",
          "height": 704
        },
        "id": "srlmymhAfDu-",
        "outputId": "953383bc-562c-4bed-a0d5-1a86d17a0f04"
      },
      "outputs": [
        {
          "name": "stdout",
          "output_type": "stream",
          "text": [
            "<class 'pandas.core.frame.DataFrame'>\n",
            "RangeIndex: 418 entries, 0 to 417\n",
            "Data columns (total 17 columns):\n",
            " #   Column       Non-Null Count  Dtype\n",
            "---  ------       --------------  -----\n",
            " 0   PassengerId  418 non-null    int64\n",
            " 1   Sex          418 non-null    int64\n",
            " 2   Age          418 non-null    int64\n",
            " 3   Fare         418 non-null    int64\n",
            " 4   Family       418 non-null    int64\n",
            " 5   Alone        418 non-null    int64\n",
            " 6   FirstClass   418 non-null    uint8\n",
            " 7   SecondClass  418 non-null    uint8\n",
            " 8   ThirdClass   418 non-null    uint8\n",
            " 9   Embarked_C   418 non-null    uint8\n",
            " 10  Embarked_Q   418 non-null    uint8\n",
            " 11  Embarked_S   418 non-null    uint8\n",
            " 12  Master       418 non-null    uint8\n",
            " 13  Miss         418 non-null    uint8\n",
            " 14  Mr           418 non-null    uint8\n",
            " 15  Mrs          418 non-null    uint8\n",
            " 16  Other        418 non-null    uint8\n",
            "dtypes: int64(6), uint8(11)\n",
            "memory usage: 24.2 KB\n",
            "None\n"
          ]
        },
        {
          "data": {
            "text/html": [
              "\n",
              "  <div id=\"df-dd4ad6ad-9b2e-42a2-95ba-216d3d03fb32\">\n",
              "    <div class=\"colab-df-container\">\n",
              "      <div>\n",
              "<style scoped>\n",
              "    .dataframe tbody tr th:only-of-type {\n",
              "        vertical-align: middle;\n",
              "    }\n",
              "\n",
              "    .dataframe tbody tr th {\n",
              "        vertical-align: top;\n",
              "    }\n",
              "\n",
              "    .dataframe thead th {\n",
              "        text-align: right;\n",
              "    }\n",
              "</style>\n",
              "<table border=\"1\" class=\"dataframe\">\n",
              "  <thead>\n",
              "    <tr style=\"text-align: right;\">\n",
              "      <th></th>\n",
              "      <th>PassengerId</th>\n",
              "      <th>Sex</th>\n",
              "      <th>Age</th>\n",
              "      <th>Fare</th>\n",
              "      <th>Family</th>\n",
              "      <th>Alone</th>\n",
              "      <th>FirstClass</th>\n",
              "      <th>SecondClass</th>\n",
              "      <th>ThirdClass</th>\n",
              "      <th>Embarked_C</th>\n",
              "      <th>Embarked_Q</th>\n",
              "      <th>Embarked_S</th>\n",
              "      <th>Master</th>\n",
              "      <th>Miss</th>\n",
              "      <th>Mr</th>\n",
              "      <th>Mrs</th>\n",
              "      <th>Other</th>\n",
              "    </tr>\n",
              "  </thead>\n",
              "  <tbody>\n",
              "    <tr>\n",
              "      <th>0</th>\n",
              "      <td>892</td>\n",
              "      <td>0</td>\n",
              "      <td>34</td>\n",
              "      <td>0</td>\n",
              "      <td>0</td>\n",
              "      <td>1</td>\n",
              "      <td>0</td>\n",
              "      <td>0</td>\n",
              "      <td>1</td>\n",
              "      <td>0</td>\n",
              "      <td>1</td>\n",
              "      <td>0</td>\n",
              "      <td>0</td>\n",
              "      <td>0</td>\n",
              "      <td>1</td>\n",
              "      <td>0</td>\n",
              "      <td>0</td>\n",
              "    </tr>\n",
              "    <tr>\n",
              "      <th>1</th>\n",
              "      <td>893</td>\n",
              "      <td>1</td>\n",
              "      <td>47</td>\n",
              "      <td>0</td>\n",
              "      <td>1</td>\n",
              "      <td>0</td>\n",
              "      <td>0</td>\n",
              "      <td>0</td>\n",
              "      <td>1</td>\n",
              "      <td>0</td>\n",
              "      <td>0</td>\n",
              "      <td>1</td>\n",
              "      <td>0</td>\n",
              "      <td>0</td>\n",
              "      <td>0</td>\n",
              "      <td>1</td>\n",
              "      <td>0</td>\n",
              "    </tr>\n",
              "    <tr>\n",
              "      <th>2</th>\n",
              "      <td>894</td>\n",
              "      <td>0</td>\n",
              "      <td>62</td>\n",
              "      <td>1</td>\n",
              "      <td>0</td>\n",
              "      <td>1</td>\n",
              "      <td>0</td>\n",
              "      <td>1</td>\n",
              "      <td>0</td>\n",
              "      <td>0</td>\n",
              "      <td>1</td>\n",
              "      <td>0</td>\n",
              "      <td>0</td>\n",
              "      <td>0</td>\n",
              "      <td>1</td>\n",
              "      <td>0</td>\n",
              "      <td>0</td>\n",
              "    </tr>\n",
              "    <tr>\n",
              "      <th>3</th>\n",
              "      <td>895</td>\n",
              "      <td>0</td>\n",
              "      <td>27</td>\n",
              "      <td>1</td>\n",
              "      <td>0</td>\n",
              "      <td>1</td>\n",
              "      <td>0</td>\n",
              "      <td>0</td>\n",
              "      <td>1</td>\n",
              "      <td>0</td>\n",
              "      <td>0</td>\n",
              "      <td>1</td>\n",
              "      <td>0</td>\n",
              "      <td>0</td>\n",
              "      <td>1</td>\n",
              "      <td>0</td>\n",
              "      <td>0</td>\n",
              "    </tr>\n",
              "    <tr>\n",
              "      <th>4</th>\n",
              "      <td>896</td>\n",
              "      <td>1</td>\n",
              "      <td>22</td>\n",
              "      <td>1</td>\n",
              "      <td>2</td>\n",
              "      <td>0</td>\n",
              "      <td>0</td>\n",
              "      <td>0</td>\n",
              "      <td>1</td>\n",
              "      <td>0</td>\n",
              "      <td>0</td>\n",
              "      <td>1</td>\n",
              "      <td>0</td>\n",
              "      <td>0</td>\n",
              "      <td>0</td>\n",
              "      <td>1</td>\n",
              "      <td>0</td>\n",
              "    </tr>\n",
              "  </tbody>\n",
              "</table>\n",
              "</div>\n",
              "      <button class=\"colab-df-convert\" onclick=\"convertToInteractive('df-dd4ad6ad-9b2e-42a2-95ba-216d3d03fb32')\"\n",
              "              title=\"Convert this dataframe to an interactive table.\"\n",
              "              style=\"display:none;\">\n",
              "        \n",
              "  <svg xmlns=\"http://www.w3.org/2000/svg\" height=\"24px\"viewBox=\"0 0 24 24\"\n",
              "       width=\"24px\">\n",
              "    <path d=\"M0 0h24v24H0V0z\" fill=\"none\"/>\n",
              "    <path d=\"M18.56 5.44l.94 2.06.94-2.06 2.06-.94-2.06-.94-.94-2.06-.94 2.06-2.06.94zm-11 1L8.5 8.5l.94-2.06 2.06-.94-2.06-.94L8.5 2.5l-.94 2.06-2.06.94zm10 10l.94 2.06.94-2.06 2.06-.94-2.06-.94-.94-2.06-.94 2.06-2.06.94z\"/><path d=\"M17.41 7.96l-1.37-1.37c-.4-.4-.92-.59-1.43-.59-.52 0-1.04.2-1.43.59L10.3 9.45l-7.72 7.72c-.78.78-.78 2.05 0 2.83L4 21.41c.39.39.9.59 1.41.59.51 0 1.02-.2 1.41-.59l7.78-7.78 2.81-2.81c.8-.78.8-2.07 0-2.86zM5.41 20L4 18.59l7.72-7.72 1.47 1.35L5.41 20z\"/>\n",
              "  </svg>\n",
              "      </button>\n",
              "      \n",
              "  <style>\n",
              "    .colab-df-container {\n",
              "      display:flex;\n",
              "      flex-wrap:wrap;\n",
              "      gap: 12px;\n",
              "    }\n",
              "\n",
              "    .colab-df-convert {\n",
              "      background-color: #E8F0FE;\n",
              "      border: none;\n",
              "      border-radius: 50%;\n",
              "      cursor: pointer;\n",
              "      display: none;\n",
              "      fill: #1967D2;\n",
              "      height: 32px;\n",
              "      padding: 0 0 0 0;\n",
              "      width: 32px;\n",
              "    }\n",
              "\n",
              "    .colab-df-convert:hover {\n",
              "      background-color: #E2EBFA;\n",
              "      box-shadow: 0px 1px 2px rgba(60, 64, 67, 0.3), 0px 1px 3px 1px rgba(60, 64, 67, 0.15);\n",
              "      fill: #174EA6;\n",
              "    }\n",
              "\n",
              "    [theme=dark] .colab-df-convert {\n",
              "      background-color: #3B4455;\n",
              "      fill: #D2E3FC;\n",
              "    }\n",
              "\n",
              "    [theme=dark] .colab-df-convert:hover {\n",
              "      background-color: #434B5C;\n",
              "      box-shadow: 0px 1px 3px 1px rgba(0, 0, 0, 0.15);\n",
              "      filter: drop-shadow(0px 1px 2px rgba(0, 0, 0, 0.3));\n",
              "      fill: #FFFFFF;\n",
              "    }\n",
              "  </style>\n",
              "\n",
              "      <script>\n",
              "        const buttonEl =\n",
              "          document.querySelector('#df-dd4ad6ad-9b2e-42a2-95ba-216d3d03fb32 button.colab-df-convert');\n",
              "        buttonEl.style.display =\n",
              "          google.colab.kernel.accessAllowed ? 'block' : 'none';\n",
              "\n",
              "        async function convertToInteractive(key) {\n",
              "          const element = document.querySelector('#df-dd4ad6ad-9b2e-42a2-95ba-216d3d03fb32');\n",
              "          const dataTable =\n",
              "            await google.colab.kernel.invokeFunction('convertToInteractive',\n",
              "                                                     [key], {});\n",
              "          if (!dataTable) return;\n",
              "\n",
              "          const docLinkHtml = 'Like what you see? Visit the ' +\n",
              "            '<a target=\"_blank\" href=https://colab.research.google.com/notebooks/data_table.ipynb>data table notebook</a>'\n",
              "            + ' to learn more about interactive tables.';\n",
              "          element.innerHTML = '';\n",
              "          dataTable['output_type'] = 'display_data';\n",
              "          await google.colab.output.renderOutput(dataTable, element);\n",
              "          const docLink = document.createElement('div');\n",
              "          docLink.innerHTML = docLinkHtml;\n",
              "          element.appendChild(docLink);\n",
              "        }\n",
              "      </script>\n",
              "    </div>\n",
              "  </div>\n",
              "  "
            ],
            "text/plain": [
              "   PassengerId  Sex  Age  Fare  Family  Alone  FirstClass  SecondClass  \\\n",
              "0          892    0   34     0       0      1           0            0   \n",
              "1          893    1   47     0       1      0           0            0   \n",
              "2          894    0   62     1       0      1           0            1   \n",
              "3          895    0   27     1       0      1           0            0   \n",
              "4          896    1   22     1       2      0           0            0   \n",
              "\n",
              "   ThirdClass  Embarked_C  Embarked_Q  Embarked_S  Master  Miss  Mr  Mrs  \\\n",
              "0           1           0           1           0       0     0   1    0   \n",
              "1           1           0           0           1       0     0   0    1   \n",
              "2           0           0           1           0       0     0   1    0   \n",
              "3           1           0           0           1       0     0   1    0   \n",
              "4           1           0           0           1       0     0   0    1   \n",
              "\n",
              "   Other  \n",
              "0      0  \n",
              "1      0  \n",
              "2      0  \n",
              "3      0  \n",
              "4      0  "
            ]
          },
          "execution_count": 30,
          "metadata": {},
          "output_type": "execute_result"
        }
      ],
      "source": [
        "# check test data\n",
        "print(df_test.info())\n",
        "\n",
        "df_test.head()"
      ]
    },
    {
      "cell_type": "markdown",
      "metadata": {
        "id": "Jn2EyNVyfDu_"
      },
      "source": [
        "Now, we can get the predictions and compose the submission file."
      ]
    },
    {
      "cell_type": "code",
      "execution_count": 31,
      "metadata": {
        "colab": {
          "base_uri": "https://localhost:8080/",
          "height": 424
        },
        "id": "sAdGUUwZfDu_",
        "outputId": "4f2686de-f268-4bed-c50e-aa5b8fab1a86"
      },
      "outputs": [
        {
          "data": {
            "text/html": [
              "\n",
              "  <div id=\"df-92099229-4e02-4e25-a743-76c04c3d6985\">\n",
              "    <div class=\"colab-df-container\">\n",
              "      <div>\n",
              "<style scoped>\n",
              "    .dataframe tbody tr th:only-of-type {\n",
              "        vertical-align: middle;\n",
              "    }\n",
              "\n",
              "    .dataframe tbody tr th {\n",
              "        vertical-align: top;\n",
              "    }\n",
              "\n",
              "    .dataframe thead th {\n",
              "        text-align: right;\n",
              "    }\n",
              "</style>\n",
              "<table border=\"1\" class=\"dataframe\">\n",
              "  <thead>\n",
              "    <tr style=\"text-align: right;\">\n",
              "      <th></th>\n",
              "      <th>PassengerId</th>\n",
              "      <th>Survived</th>\n",
              "    </tr>\n",
              "  </thead>\n",
              "  <tbody>\n",
              "    <tr>\n",
              "      <th>0</th>\n",
              "      <td>892</td>\n",
              "      <td>0</td>\n",
              "    </tr>\n",
              "    <tr>\n",
              "      <th>1</th>\n",
              "      <td>893</td>\n",
              "      <td>0</td>\n",
              "    </tr>\n",
              "    <tr>\n",
              "      <th>2</th>\n",
              "      <td>894</td>\n",
              "      <td>0</td>\n",
              "    </tr>\n",
              "    <tr>\n",
              "      <th>3</th>\n",
              "      <td>895</td>\n",
              "      <td>0</td>\n",
              "    </tr>\n",
              "    <tr>\n",
              "      <th>4</th>\n",
              "      <td>896</td>\n",
              "      <td>1</td>\n",
              "    </tr>\n",
              "    <tr>\n",
              "      <th>...</th>\n",
              "      <td>...</td>\n",
              "      <td>...</td>\n",
              "    </tr>\n",
              "    <tr>\n",
              "      <th>413</th>\n",
              "      <td>1305</td>\n",
              "      <td>0</td>\n",
              "    </tr>\n",
              "    <tr>\n",
              "      <th>414</th>\n",
              "      <td>1306</td>\n",
              "      <td>1</td>\n",
              "    </tr>\n",
              "    <tr>\n",
              "      <th>415</th>\n",
              "      <td>1307</td>\n",
              "      <td>0</td>\n",
              "    </tr>\n",
              "    <tr>\n",
              "      <th>416</th>\n",
              "      <td>1308</td>\n",
              "      <td>0</td>\n",
              "    </tr>\n",
              "    <tr>\n",
              "      <th>417</th>\n",
              "      <td>1309</td>\n",
              "      <td>1</td>\n",
              "    </tr>\n",
              "  </tbody>\n",
              "</table>\n",
              "<p>418 rows × 2 columns</p>\n",
              "</div>\n",
              "      <button class=\"colab-df-convert\" onclick=\"convertToInteractive('df-92099229-4e02-4e25-a743-76c04c3d6985')\"\n",
              "              title=\"Convert this dataframe to an interactive table.\"\n",
              "              style=\"display:none;\">\n",
              "        \n",
              "  <svg xmlns=\"http://www.w3.org/2000/svg\" height=\"24px\"viewBox=\"0 0 24 24\"\n",
              "       width=\"24px\">\n",
              "    <path d=\"M0 0h24v24H0V0z\" fill=\"none\"/>\n",
              "    <path d=\"M18.56 5.44l.94 2.06.94-2.06 2.06-.94-2.06-.94-.94-2.06-.94 2.06-2.06.94zm-11 1L8.5 8.5l.94-2.06 2.06-.94-2.06-.94L8.5 2.5l-.94 2.06-2.06.94zm10 10l.94 2.06.94-2.06 2.06-.94-2.06-.94-.94-2.06-.94 2.06-2.06.94z\"/><path d=\"M17.41 7.96l-1.37-1.37c-.4-.4-.92-.59-1.43-.59-.52 0-1.04.2-1.43.59L10.3 9.45l-7.72 7.72c-.78.78-.78 2.05 0 2.83L4 21.41c.39.39.9.59 1.41.59.51 0 1.02-.2 1.41-.59l7.78-7.78 2.81-2.81c.8-.78.8-2.07 0-2.86zM5.41 20L4 18.59l7.72-7.72 1.47 1.35L5.41 20z\"/>\n",
              "  </svg>\n",
              "      </button>\n",
              "      \n",
              "  <style>\n",
              "    .colab-df-container {\n",
              "      display:flex;\n",
              "      flex-wrap:wrap;\n",
              "      gap: 12px;\n",
              "    }\n",
              "\n",
              "    .colab-df-convert {\n",
              "      background-color: #E8F0FE;\n",
              "      border: none;\n",
              "      border-radius: 50%;\n",
              "      cursor: pointer;\n",
              "      display: none;\n",
              "      fill: #1967D2;\n",
              "      height: 32px;\n",
              "      padding: 0 0 0 0;\n",
              "      width: 32px;\n",
              "    }\n",
              "\n",
              "    .colab-df-convert:hover {\n",
              "      background-color: #E2EBFA;\n",
              "      box-shadow: 0px 1px 2px rgba(60, 64, 67, 0.3), 0px 1px 3px 1px rgba(60, 64, 67, 0.15);\n",
              "      fill: #174EA6;\n",
              "    }\n",
              "\n",
              "    [theme=dark] .colab-df-convert {\n",
              "      background-color: #3B4455;\n",
              "      fill: #D2E3FC;\n",
              "    }\n",
              "\n",
              "    [theme=dark] .colab-df-convert:hover {\n",
              "      background-color: #434B5C;\n",
              "      box-shadow: 0px 1px 3px 1px rgba(0, 0, 0, 0.15);\n",
              "      filter: drop-shadow(0px 1px 2px rgba(0, 0, 0, 0.3));\n",
              "      fill: #FFFFFF;\n",
              "    }\n",
              "  </style>\n",
              "\n",
              "      <script>\n",
              "        const buttonEl =\n",
              "          document.querySelector('#df-92099229-4e02-4e25-a743-76c04c3d6985 button.colab-df-convert');\n",
              "        buttonEl.style.display =\n",
              "          google.colab.kernel.accessAllowed ? 'block' : 'none';\n",
              "\n",
              "        async function convertToInteractive(key) {\n",
              "          const element = document.querySelector('#df-92099229-4e02-4e25-a743-76c04c3d6985');\n",
              "          const dataTable =\n",
              "            await google.colab.kernel.invokeFunction('convertToInteractive',\n",
              "                                                     [key], {});\n",
              "          if (!dataTable) return;\n",
              "\n",
              "          const docLinkHtml = 'Like what you see? Visit the ' +\n",
              "            '<a target=\"_blank\" href=https://colab.research.google.com/notebooks/data_table.ipynb>data table notebook</a>'\n",
              "            + ' to learn more about interactive tables.';\n",
              "          element.innerHTML = '';\n",
              "          dataTable['output_type'] = 'display_data';\n",
              "          await google.colab.output.renderOutput(dataTable, element);\n",
              "          const docLink = document.createElement('div');\n",
              "          docLink.innerHTML = docLinkHtml;\n",
              "          element.appendChild(docLink);\n",
              "        }\n",
              "      </script>\n",
              "    </div>\n",
              "  </div>\n",
              "  "
            ],
            "text/plain": [
              "     PassengerId  Survived\n",
              "0            892         0\n",
              "1            893         0\n",
              "2            894         0\n",
              "3            895         0\n",
              "4            896         1\n",
              "..           ...       ...\n",
              "413         1305         0\n",
              "414         1306         1\n",
              "415         1307         0\n",
              "416         1308         0\n",
              "417         1309         1\n",
              "\n",
              "[418 rows x 2 columns]"
            ]
          },
          "execution_count": 31,
          "metadata": {},
          "output_type": "execute_result"
        }
      ],
      "source": [
        "# Select the desired features\n",
        "test_features = df_test[chosen_features]\n",
        "\n",
        "# get the predictions\n",
        "survived = final_model.predict(test_features)\n",
        "submission = pd.concat([df_test['PassengerId'],pd.Series(survived,name = 'Survived')],axis = 1)\n",
        "\n",
        "# save submission\n",
        "submission.to_csv('./submission.csv' ,index = False)\n",
        "submission"
      ]
    }
  ],
  "metadata": {
    "colab": {
      "collapsed_sections": [
        "4y8OA6AYfDut",
        "2jqACD5mfDuv",
        "6Aeba8ZPfDuw",
        "-72sk6-yfDuy",
        "_iAUNRUCfDuz",
        "Zbxq4UtWfDu0",
        "OAPlWRk9fDu9"
      ],
      "name": "main.ipynb",
      "provenance": []
    },
    "kernelspec": {
      "display_name": "Python 3.9.5 ('DL_env': venv)",
      "language": "python",
      "name": "python3"
    },
    "language_info": {
      "codemirror_mode": {
        "name": "ipython",
        "version": 3
      },
      "file_extension": ".py",
      "mimetype": "text/x-python",
      "name": "python",
      "nbconvert_exporter": "python",
      "pygments_lexer": "ipython3",
      "version": "3.9.5"
    },
    "orig_nbformat": 4,
    "vscode": {
      "interpreter": {
        "hash": "0d876f14a136bf9116447c888002c305d6a41514ae4dbe09b8bea86ee8a15820"
      }
    }
  },
  "nbformat": 4,
  "nbformat_minor": 0
}
